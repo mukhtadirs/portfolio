{
 "cells": [
  {
   "cell_type": "code",
   "execution_count": 22,
   "id": "5fd5872e",
   "metadata": {},
   "outputs": [],
   "source": [
    "# Spark Installation\n",
    "import findspark\n",
    "findspark.init()"
   ]
  },
  {
   "cell_type": "code",
   "execution_count": 23,
   "id": "e3d62fb2",
   "metadata": {},
   "outputs": [],
   "source": [
    "# importing pandas\n",
    "import pandas as pd\n",
    "pd.set_option('display.max_colwidth', None)"
   ]
  },
  {
   "cell_type": "code",
   "execution_count": 25,
   "id": "c61aaa8e",
   "metadata": {},
   "outputs": [
    {
     "name": "stdout",
     "output_type": "stream",
     "text": [
      "This cluster relies on Spark '3.2.1'\n"
     ]
    }
   ],
   "source": [
    "# creating spark session\n",
    "from pyspark.sql.session import SparkSession\n",
    "\n",
    "spark = SparkSession.builder\\\n",
    "                    .appName(\"Yelp Analysis\")\\\n",
    "                    .getOrCreate()\n",
    "\n",
    "print(f\"This cluster relies on Spark '{spark.version}'\")"
   ]
  },
  {
   "cell_type": "code",
   "execution_count": 26,
   "id": "3b4f3429",
   "metadata": {},
   "outputs": [
    {
     "name": "stderr",
     "output_type": "stream",
     "text": [
      "                                                                                \r"
     ]
    },
    {
     "name": "stdout",
     "output_type": "stream",
     "text": [
      "root\n",
      " |-- _corrupt_record: string (nullable = true)\n",
      " |-- alias: string (nullable = true)\n",
      " |-- categories: array (nullable = true)\n",
      " |    |-- element: struct (containsNull = true)\n",
      " |    |    |-- alias: string (nullable = true)\n",
      " |    |    |-- title: string (nullable = true)\n",
      " |-- center: struct (nullable = true)\n",
      " |    |-- latitude: double (nullable = true)\n",
      " |    |-- longitude: double (nullable = true)\n",
      " |-- coordinates: struct (nullable = true)\n",
      " |    |-- latitude: double (nullable = true)\n",
      " |    |-- longitude: double (nullable = true)\n",
      " |-- display_phone: string (nullable = true)\n",
      " |-- distance: double (nullable = true)\n",
      " |-- id: string (nullable = true)\n",
      " |-- image_url: string (nullable = true)\n",
      " |-- is_closed: boolean (nullable = true)\n",
      " |-- location: struct (nullable = true)\n",
      " |    |-- address1: string (nullable = true)\n",
      " |    |-- address2: string (nullable = true)\n",
      " |    |-- address3: string (nullable = true)\n",
      " |    |-- city: string (nullable = true)\n",
      " |    |-- country: string (nullable = true)\n",
      " |    |-- display_address: array (nullable = true)\n",
      " |    |    |-- element: string (containsNull = true)\n",
      " |    |-- state: string (nullable = true)\n",
      " |    |-- zip_code: string (nullable = true)\n",
      " |-- name: string (nullable = true)\n",
      " |-- phone: string (nullable = true)\n",
      " |-- price: string (nullable = true)\n",
      " |-- rating: double (nullable = true)\n",
      " |-- review_count: long (nullable = true)\n",
      " |-- transactions: array (nullable = true)\n",
      " |    |-- element: string (containsNull = true)\n",
      " |-- url: string (nullable = true)\n",
      "\n"
     ]
    }
   ],
   "source": [
    "from  pyspark.sql.functions import input_file_name\n",
    "\n",
    "# DataFrame creation\n",
    "Juneyelp = spark.read.json(\"hdfs://localhost:9000/datalake/raw/tfl/bikepoint/yelp/*\")\n",
    "\n",
    "# The inferred schema can be visualized using the printSchema() method - definitely semi-structured data.\n",
    "Juneyelp.printSchema()"
   ]
  },
  {
   "cell_type": "code",
   "execution_count": 27,
   "id": "9c5adcbd",
   "metadata": {},
   "outputs": [],
   "source": [
    "# selecting the columns that are needed to answer the business questions\n",
    "Yelpdataframe=Juneyelp.select(\"categories\",\"name\",\"rating\",\"review_count\",\"transactions\",\"price\")"
   ]
  },
  {
   "cell_type": "code",
   "execution_count": 28,
   "id": "54567a3d",
   "metadata": {},
   "outputs": [
    {
     "name": "stdout",
     "output_type": "stream",
     "text": [
      "+--------------------+--------------------+------+------------+------------+-----+\n",
      "|          categories|                name|rating|review_count|transactions|price|\n",
      "+--------------------+--------------------+------+------------+------------+-----+\n",
      "|[{tapas, Tapas Ba...|              El Sur|   4.5|         721|          []|   €€|\n",
      "|[{chocolate, Choc...|Chocolatería San ...|   4.0|        1233|          []|    €|\n",
      "|[{museums, Museums}]|Museo Nacional de...|   4.5|         413|          []| null|\n",
      "|[{parks, Parks}, ...|Estanque Grande d...|   4.5|         286|          []| null|\n",
      "|[{mexican, Mexican}]|     Takos al Pastor|   4.5|         394|          []|    €|\n",
      "|[{spanish, Spanis...|            Alhambra|   4.0|         443|          []|   €€|\n",
      "|[{spanish, Spanis...|               Botín|   4.0|         574|          []|  €€€|\n",
      "|[{tapasmallplates...|       Juana la Loca|   4.5|         208|          []|  €€€|\n",
      "|[{coffee, Coffee ...|           Toma Café|   4.5|         210|          []|    €|\n",
      "|[{museums, Museums}]|Museo Nacional Ce...|   4.5|         211|          []| null|\n",
      "|[{tapas, Tapas Ba...|      Celso y Manolo|   4.5|         178|          []|   €€|\n",
      "|[{mediterranean, ...|      Cacao Restobar|   5.0|         104|          []|   €€|\n",
      "|[{tapas, Tapas Ba...|        Rosi La Loca|   4.5|         167|          []|  €€€|\n",
      "|[{modern_european...|        La Malontina|   4.5|         110|          []|   €€|\n",
      "|[{tapas, Tapas Ba...|       Tinto y Tapas|   4.5|         151|          []|    €|\n",
      "|[{landmarks, Land...|Palacio Real de M...|   4.5|         196|          []| null|\n",
      "|[{tapas, Tapas Ba...|          Casa Lucas|   4.5|         150|          []|   €€|\n",
      "|[{desserts, Desse...|      La Mallorquina|   4.5|         216|          []|    €|\n",
      "|[{coffee, Coffee ...|      Café de la Luz|   4.5|         166|          []|    €|\n",
      "|[{modern_european...|          Carmencita|   4.5|         148|          []|   €€|\n",
      "+--------------------+--------------------+------+------------+------------+-----+\n",
      "only showing top 20 rows\n",
      "\n"
     ]
    }
   ],
   "source": [
    "Yelpdataframe.show()"
   ]
  },
  {
   "cell_type": "code",
   "execution_count": 29,
   "id": "1c5ef938",
   "metadata": {},
   "outputs": [
    {
     "data": {
      "text/plain": [
       "[('categories', 'array<struct<alias:string,title:string>>'),\n",
       " ('name', 'string'),\n",
       " ('rating', 'double'),\n",
       " ('review_count', 'bigint'),\n",
       " ('transactions', 'array<string>'),\n",
       " ('price', 'string')]"
      ]
     },
     "execution_count": 29,
     "metadata": {},
     "output_type": "execute_result"
    }
   ],
   "source": [
    "# checking for data type in the columns\n",
    "Yelpdataframe.dtypes"
   ]
  },
  {
   "cell_type": "code",
   "execution_count": 30,
   "id": "80020f72",
   "metadata": {},
   "outputs": [],
   "source": [
    "from  pyspark.sql.functions import col\n"
   ]
  },
  {
   "cell_type": "code",
   "execution_count": 31,
   "id": "d77af9e5",
   "metadata": {},
   "outputs": [
    {
     "name": "stderr",
     "output_type": "stream",
     "text": [
      "[Stage 19:===================>                                      (1 + 2) / 3]\r"
     ]
    },
    {
     "name": "stdout",
     "output_type": "stream",
     "text": [
      "+------+-----+\n",
      "|rating|count|\n",
      "+------+-----+\n",
      "|   4.5| 1424|\n",
      "|  null|  178|\n",
      "|   4.0|  267|\n",
      "|   5.0|   89|\n",
      "+------+-----+\n",
      "\n"
     ]
    },
    {
     "name": "stderr",
     "output_type": "stream",
     "text": [
      "                                                                                \r"
     ]
    }
   ],
   "source": [
    "# first business question- grouping by rating to check how many restaurants are rated 4.0, 4.5 and 5.0\n",
    "Yelpdataframe.groupBy(\"rating\").count().show()\n",
    "\n"
   ]
  },
  {
   "cell_type": "code",
   "execution_count": 32,
   "id": "1f4007f2",
   "metadata": {},
   "outputs": [
    {
     "name": "stderr",
     "output_type": "stream",
     "text": [
      "[Stage 22:======================================>                   (2 + 1) / 3]\r"
     ]
    },
    {
     "name": "stdout",
     "output_type": "stream",
     "text": [
      "+-----+-----+\n",
      "|price|count|\n",
      "+-----+-----+\n",
      "| null|  534|\n",
      "|   €€|  623|\n",
      "|  €€€|  267|\n",
      "|    €|  534|\n",
      "+-----+-----+\n",
      "\n"
     ]
    },
    {
     "name": "stderr",
     "output_type": "stream",
     "text": [
      "                                                                                \r"
     ]
    }
   ],
   "source": [
    "# second business question- grouping by price to check the distribution of restaurants based on how expensive they are\n",
    "Yelpdataframe.groupBy(\"price\").count().show()\n"
   ]
  },
  {
   "cell_type": "code",
   "execution_count": 33,
   "id": "6c7fba4b",
   "metadata": {},
   "outputs": [
    {
     "name": "stdout",
     "output_type": "stream",
     "text": [
      "+--------------------+--------------------+------+------------+------------+-----+\n",
      "|          categories|                name|rating|review_count|transactions|price|\n",
      "+--------------------+--------------------+------+------------+------------+-----+\n",
      "|[{tapas, Tapas Ba...|              El Sur|   4.5|         721|          []|    2|\n",
      "|[{chocolate, Choc...|Chocolatería San ...|   4.0|        1233|          []|    1|\n",
      "|[{museums, Museums}]|Museo Nacional de...|   4.5|         413|          []| null|\n",
      "|[{parks, Parks}, ...|Estanque Grande d...|   4.5|         286|          []| null|\n",
      "|[{mexican, Mexican}]|     Takos al Pastor|   4.5|         394|          []|    1|\n",
      "|[{spanish, Spanis...|            Alhambra|   4.0|         443|          []|    2|\n",
      "|[{spanish, Spanis...|               Botín|   4.0|         574|          []|    3|\n",
      "|[{tapasmallplates...|       Juana la Loca|   4.5|         208|          []|    3|\n",
      "|[{coffee, Coffee ...|           Toma Café|   4.5|         210|          []|    1|\n",
      "|[{museums, Museums}]|Museo Nacional Ce...|   4.5|         211|          []| null|\n",
      "|[{tapas, Tapas Ba...|      Celso y Manolo|   4.5|         178|          []|    2|\n",
      "|[{mediterranean, ...|      Cacao Restobar|   5.0|         104|          []|    2|\n",
      "|[{tapas, Tapas Ba...|        Rosi La Loca|   4.5|         167|          []|    3|\n",
      "|[{modern_european...|        La Malontina|   4.5|         110|          []|    2|\n",
      "|[{tapas, Tapas Ba...|       Tinto y Tapas|   4.5|         151|          []|    1|\n",
      "|[{landmarks, Land...|Palacio Real de M...|   4.5|         196|          []| null|\n",
      "|[{tapas, Tapas Ba...|          Casa Lucas|   4.5|         150|          []|    2|\n",
      "|[{desserts, Desse...|      La Mallorquina|   4.5|         216|          []|    1|\n",
      "|[{coffee, Coffee ...|      Café de la Luz|   4.5|         166|          []|    1|\n",
      "|[{modern_european...|          Carmencita|   4.5|         148|          []|    2|\n",
      "+--------------------+--------------------+------+------------+------------+-----+\n",
      "only showing top 20 rows\n",
      "\n"
     ]
    }
   ],
   "source": [
    "# converting the price column to numerical value\n",
    "from pyspark.sql.functions import when\n",
    "\n",
    "df3 = Yelpdataframe.withColumn(\"price\", when(Yelpdataframe.price == \"€\",\"1\")\n",
    "      .when(Yelpdataframe.price == \"€€\",\"2\") \\\n",
    "      .when(Yelpdataframe.price==\"€€€\",\"3\")\n",
    "      .otherwise(Yelpdataframe.price))\n",
    "df3.show()"
   ]
  },
  {
   "cell_type": "code",
   "execution_count": 34,
   "id": "436d8dcb",
   "metadata": {
    "scrolled": true
   },
   "outputs": [
    {
     "name": "stdout",
     "output_type": "stream",
     "text": [
      "+--------------------+--------------------+------+------------+------------+-----+\n",
      "|          categories|                name|rating|review_count|transactions|price|\n",
      "+--------------------+--------------------+------+------------+------------+-----+\n",
      "|[{tapas, Tapas Ba...|              El Sur|   4.5|         721|          []|    2|\n",
      "|[{chocolate, Choc...|Chocolatería San ...|   4.0|        1233|          []|    1|\n",
      "|[{museums, Museums}]|Museo Nacional de...|   4.5|         413|          []| null|\n",
      "|[{parks, Parks}, ...|Estanque Grande d...|   4.5|         286|          []| null|\n",
      "|[{mexican, Mexican}]|     Takos al Pastor|   4.5|         394|          []|    1|\n",
      "|[{spanish, Spanis...|            Alhambra|   4.0|         443|          []|    2|\n",
      "|[{spanish, Spanis...|               Botín|   4.0|         574|          []|    3|\n",
      "|[{tapasmallplates...|       Juana la Loca|   4.5|         208|          []|    3|\n",
      "|[{coffee, Coffee ...|           Toma Café|   4.5|         210|          []|    1|\n",
      "|[{museums, Museums}]|Museo Nacional Ce...|   4.5|         211|          []| null|\n",
      "|[{tapas, Tapas Ba...|      Celso y Manolo|   4.5|         178|          []|    2|\n",
      "|[{mediterranean, ...|      Cacao Restobar|   5.0|         104|          []|    2|\n",
      "|[{tapas, Tapas Ba...|        Rosi La Loca|   4.5|         167|          []|    3|\n",
      "|[{modern_european...|        La Malontina|   4.5|         110|          []|    2|\n",
      "|[{tapas, Tapas Ba...|       Tinto y Tapas|   4.5|         151|          []|    1|\n",
      "|[{landmarks, Land...|Palacio Real de M...|   4.5|         196|          []| null|\n",
      "|[{tapas, Tapas Ba...|          Casa Lucas|   4.5|         150|          []|    2|\n",
      "|[{desserts, Desse...|      La Mallorquina|   4.5|         216|          []|    1|\n",
      "|[{coffee, Coffee ...|      Café de la Luz|   4.5|         166|          []|    1|\n",
      "|[{modern_european...|          Carmencita|   4.5|         148|          []|    2|\n",
      "+--------------------+--------------------+------+------------+------------+-----+\n",
      "only showing top 20 rows\n",
      "\n"
     ]
    }
   ],
   "source": [
    "# changing the data tye of price column to integer\n",
    "from pyspark.sql.types import IntegerType\n",
    "df3 = df3.withColumn(\"price\", df3[\"price\"].cast(IntegerType()))\n",
    "df3.show()\n"
   ]
  },
  {
   "cell_type": "code",
   "execution_count": 35,
   "id": "9ff086a4",
   "metadata": {},
   "outputs": [
    {
     "data": {
      "text/plain": [
       "[('categories', 'array<struct<alias:string,title:string>>'),\n",
       " ('name', 'string'),\n",
       " ('rating', 'double'),\n",
       " ('review_count', 'bigint'),\n",
       " ('transactions', 'array<string>'),\n",
       " ('price', 'int')]"
      ]
     },
     "execution_count": 35,
     "metadata": {},
     "output_type": "execute_result"
    }
   ],
   "source": [
    "# price has changed to int\n",
    "df3.dtypes"
   ]
  },
  {
   "cell_type": "code",
   "execution_count": 36,
   "id": "ac3b787e",
   "metadata": {},
   "outputs": [
    {
     "data": {
      "text/plain": [
       "0.38545259281249483"
      ]
     },
     "execution_count": 36,
     "metadata": {},
     "output_type": "execute_result"
    }
   ],
   "source": [
    "# correlation between price and rating\n",
    "df3.corr(\"price\",\"rating\")"
   ]
  },
  {
   "cell_type": "code",
   "execution_count": 37,
   "id": "141f35fc",
   "metadata": {},
   "outputs": [
    {
     "name": "stderr",
     "output_type": "stream",
     "text": [
      "                                                                                \r"
     ]
    },
    {
     "data": {
      "text/plain": [
       "0.23341675055870034"
      ]
     },
     "execution_count": 37,
     "metadata": {},
     "output_type": "execute_result"
    }
   ],
   "source": [
    "# correlation between review count and rating\n",
    "df3.corr(\"review_count\",\"rating\")"
   ]
  }
 ],
 "metadata": {
  "kernelspec": {
   "display_name": "Python 3 (ipykernel)",
   "language": "python",
   "name": "python3"
  },
  "language_info": {
   "codemirror_mode": {
    "name": "ipython",
    "version": 3
   },
   "file_extension": ".py",
   "mimetype": "text/x-python",
   "name": "python",
   "nbconvert_exporter": "python",
   "pygments_lexer": "ipython3",
   "version": "3.9.2"
  }
 },
 "nbformat": 4,
 "nbformat_minor": 5
}
