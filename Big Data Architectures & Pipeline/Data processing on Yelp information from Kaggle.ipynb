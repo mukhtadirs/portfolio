{
 "cells": [
  {
   "cell_type": "markdown",
   "id": "8adf5f5d",
   "metadata": {},
   "source": [
    "### Spark installation"
   ]
  },
  {
   "cell_type": "code",
   "execution_count": 2,
   "id": "6e704653",
   "metadata": {},
   "outputs": [],
   "source": [
    "import findspark\n",
    "findspark.init()"
   ]
  },
  {
   "cell_type": "markdown",
   "id": "c9a9be75",
   "metadata": {},
   "source": [
    "### importing pandas"
   ]
  },
  {
   "cell_type": "code",
   "execution_count": 3,
   "id": "99918fde",
   "metadata": {},
   "outputs": [],
   "source": [
    "import pandas as pd\n",
    "pd.set_option('display.max_colwidth', None)"
   ]
  },
  {
   "cell_type": "markdown",
   "id": "10999de4",
   "metadata": {},
   "source": [
    "### create spark session"
   ]
  },
  {
   "cell_type": "code",
   "execution_count": 4,
   "id": "ca787a40",
   "metadata": {},
   "outputs": [
    {
     "name": "stderr",
     "output_type": "stream",
     "text": [
      "WARNING: An illegal reflective access operation has occurred\n",
      "WARNING: Illegal reflective access by org.apache.spark.unsafe.Platform (file:/opt/spark3/jars/spark-unsafe_2.12-3.2.1.jar) to constructor java.nio.DirectByteBuffer(long,int)\n",
      "WARNING: Please consider reporting this to the maintainers of org.apache.spark.unsafe.Platform\n",
      "WARNING: Use --illegal-access=warn to enable warnings of further illegal reflective access operations\n",
      "WARNING: All illegal access operations will be denied in a future release\n",
      "Setting default log level to \"WARN\".\n",
      "To adjust logging level use sc.setLogLevel(newLevel). For SparkR, use setLogLevel(newLevel).\n"
     ]
    },
    {
     "name": "stdout",
     "output_type": "stream",
     "text": [
      "This cluster relies on Spark '3.2.1'\n"
     ]
    }
   ],
   "source": [
    "from pyspark.sql.session import SparkSession\n",
    "\n",
    "spark = SparkSession.builder\\\n",
    "                    .appName(\"Yelp Kaggle\")\\\n",
    "                    .getOrCreate()\n",
    "\n",
    "print(f\"This cluster relies on Spark '{spark.version}'\")"
   ]
  },
  {
   "cell_type": "code",
   "execution_count": 5,
   "id": "d3491bec",
   "metadata": {},
   "outputs": [
    {
     "name": "stderr",
     "output_type": "stream",
     "text": [
      "                                                                                \r"
     ]
    },
    {
     "name": "stdout",
     "output_type": "stream",
     "text": [
      "root\n",
      " |-- address: string (nullable = true)\n",
      " |-- attributes: struct (nullable = true)\n",
      " |    |-- AcceptsInsurance: string (nullable = true)\n",
      " |    |-- AgesAllowed: string (nullable = true)\n",
      " |    |-- Alcohol: string (nullable = true)\n",
      " |    |-- Ambience: string (nullable = true)\n",
      " |    |-- BYOB: string (nullable = true)\n",
      " |    |-- BYOBCorkage: string (nullable = true)\n",
      " |    |-- BestNights: string (nullable = true)\n",
      " |    |-- BikeParking: string (nullable = true)\n",
      " |    |-- BusinessAcceptsBitcoin: string (nullable = true)\n",
      " |    |-- BusinessAcceptsCreditCards: string (nullable = true)\n",
      " |    |-- BusinessParking: string (nullable = true)\n",
      " |    |-- ByAppointmentOnly: string (nullable = true)\n",
      " |    |-- Caters: string (nullable = true)\n",
      " |    |-- CoatCheck: string (nullable = true)\n",
      " |    |-- Corkage: string (nullable = true)\n",
      " |    |-- DietaryRestrictions: string (nullable = true)\n",
      " |    |-- DogsAllowed: string (nullable = true)\n",
      " |    |-- DriveThru: string (nullable = true)\n",
      " |    |-- GoodForDancing: string (nullable = true)\n",
      " |    |-- GoodForKids: string (nullable = true)\n",
      " |    |-- GoodForMeal: string (nullable = true)\n",
      " |    |-- HairSpecializesIn: string (nullable = true)\n",
      " |    |-- HappyHour: string (nullable = true)\n",
      " |    |-- HasTV: string (nullable = true)\n",
      " |    |-- Music: string (nullable = true)\n",
      " |    |-- NoiseLevel: string (nullable = true)\n",
      " |    |-- Open24Hours: string (nullable = true)\n",
      " |    |-- OutdoorSeating: string (nullable = true)\n",
      " |    |-- RestaurantsAttire: string (nullable = true)\n",
      " |    |-- RestaurantsCounterService: string (nullable = true)\n",
      " |    |-- RestaurantsDelivery: string (nullable = true)\n",
      " |    |-- RestaurantsGoodForGroups: string (nullable = true)\n",
      " |    |-- RestaurantsPriceRange2: string (nullable = true)\n",
      " |    |-- RestaurantsReservations: string (nullable = true)\n",
      " |    |-- RestaurantsTableService: string (nullable = true)\n",
      " |    |-- RestaurantsTakeOut: string (nullable = true)\n",
      " |    |-- Smoking: string (nullable = true)\n",
      " |    |-- WheelchairAccessible: string (nullable = true)\n",
      " |    |-- WiFi: string (nullable = true)\n",
      " |-- business_id: string (nullable = true)\n",
      " |-- categories: string (nullable = true)\n",
      " |-- city: string (nullable = true)\n",
      " |-- hours: struct (nullable = true)\n",
      " |    |-- Friday: string (nullable = true)\n",
      " |    |-- Monday: string (nullable = true)\n",
      " |    |-- Saturday: string (nullable = true)\n",
      " |    |-- Sunday: string (nullable = true)\n",
      " |    |-- Thursday: string (nullable = true)\n",
      " |    |-- Tuesday: string (nullable = true)\n",
      " |    |-- Wednesday: string (nullable = true)\n",
      " |-- is_open: long (nullable = true)\n",
      " |-- latitude: double (nullable = true)\n",
      " |-- longitude: double (nullable = true)\n",
      " |-- name: string (nullable = true)\n",
      " |-- postal_code: string (nullable = true)\n",
      " |-- review_count: long (nullable = true)\n",
      " |-- stars: double (nullable = true)\n",
      " |-- state: string (nullable = true)\n",
      "\n"
     ]
    }
   ],
   "source": [
    "from  pyspark.sql.functions import input_file_name\n",
    "\n",
    "# DataFrame creation\n",
    "kaggleyelp = spark.read.json(\"hdfs://localhost:9000/datalake/raw/yelpkaggle\")\n",
    "\n",
    "# The inferred schema can be visualized using the printSchema() method - definitely semi-structured data.\n",
    "kaggleyelp.printSchema()"
   ]
  },
  {
   "cell_type": "code",
   "execution_count": 6,
   "id": "b5e8ce63",
   "metadata": {},
   "outputs": [
    {
     "data": {
      "text/plain": [
       "['address',\n",
       " 'attributes',\n",
       " 'business_id',\n",
       " 'categories',\n",
       " 'city',\n",
       " 'hours',\n",
       " 'is_open',\n",
       " 'latitude',\n",
       " 'longitude',\n",
       " 'name',\n",
       " 'postal_code',\n",
       " 'review_count',\n",
       " 'stars',\n",
       " 'state']"
      ]
     },
     "execution_count": 6,
     "metadata": {},
     "output_type": "execute_result"
    }
   ],
   "source": [
    "# check all the columns\n",
    "kaggleyelp.columns"
   ]
  },
  {
   "cell_type": "code",
   "execution_count": 7,
   "id": "4b54ec2a",
   "metadata": {},
   "outputs": [
    {
     "data": {
      "text/plain": [
       "pyspark.sql.dataframe.DataFrame"
      ]
     },
     "execution_count": 7,
     "metadata": {},
     "output_type": "execute_result"
    }
   ],
   "source": [
    "# check the type of the dataset\n",
    "type(kaggleyelp)"
   ]
  },
  {
   "cell_type": "code",
   "execution_count": 8,
   "id": "27bd79b5",
   "metadata": {},
   "outputs": [],
   "source": [
    "# select the columns that we need\n",
    "df= kaggleyelp.select(\"business_id\",\"city\",\"state\",\"categories\",\"name\",\"stars\",\"review_count\")"
   ]
  },
  {
   "cell_type": "code",
   "execution_count": 9,
   "id": "a2782954",
   "metadata": {},
   "outputs": [
    {
     "name": "stdout",
     "output_type": "stream",
     "text": [
      "+--------------------+--------------+-----+--------------------+--------------------+-----+------------+\n",
      "|         business_id|          city|state|          categories|                name|stars|review_count|\n",
      "+--------------------+--------------+-----+--------------------+--------------------+-----+------------+\n",
      "|Pns2l4eNsfO8kk83d...| Santa Barbara|   CA|Doctors, Traditio...|Abby Rappoport, L...|  5.0|           7|\n",
      "|mpf3x-BjTdTEA3yCZ...|        Affton|   MO|Shipping Centers,...|       The UPS Store|  3.0|          15|\n",
      "|tUFrWirKiKi_TAnsV...|        Tucson|   AZ|Department Stores...|              Target|  3.5|          22|\n",
      "|MTSW4McQd7CbVtyjq...|  Philadelphia|   PA|Restaurants, Food...|  St Honore Pastries|  4.0|          80|\n",
      "|mWMc6_wTdE0EUBKIG...|    Green Lane|   PA|Brewpubs, Breweri...|Perkiomen Valley ...|  4.5|          13|\n",
      "|CF33F8-E6oudUQ46H...|  Ashland City|   TN|Burgers, Fast Foo...|      Sonic Drive-In|  2.0|           6|\n",
      "|n_0UpQx1hsNbnPUSl...|     Brentwood|   MO|Sporting Goods, F...|     Famous Footwear|  2.5|          13|\n",
      "|qkRM_2X51Yqxk3btl...|St. Petersburg|   FL|Synagogues, Relig...|      Temple Beth-El|  3.5|           5|\n",
      "|k0hlBqXX-Bt0vf1op...|        Affton|   MO|Pubs, Restaurants...|Tsevi's Pub And G...|  3.0|          19|\n",
      "|bBDDEgkFA1Otx9Lfe...|     Nashville|   TN|Ice Cream & Froze...|      Sonic Drive-In|  1.5|          10|\n",
      "|UJsufbvfyfONHeWdv...| Land O' Lakes|   FL|Department Stores...|           Marshalls|  3.5|           6|\n",
      "|eEOYSgkmpB90uNA7l...|     Tampa Bay|   FL|Vietnamese, Food,...|Vietnamese Food T...|  4.0|          10|\n",
      "|il_Ro8jwPlHresjw9...|  Indianapolis|   IN|American (Traditi...|             Denny's|  2.5|          28|\n",
      "|jaxMSoInw8Poo3XeM...|    Clearwater|   FL|General Dentistry...|        Adams Dental|  5.0|          10|\n",
      "|0bPLkL0QhhPO5kt1_...|         Largo|   FL|Food, Delis, Ital...|Zio's Italian Market|  4.5|         100|\n",
      "|MUTTqe8uqyMdBl186...|  Philadelphia|   PA|Sushi Bars, Resta...|            Tuna Bar|  4.0|         245|\n",
      "|rBmpy_Y1UbBx8ggHl...|        Tucson|   AZ|Automotive, Auto ...|Arizona Truck Out...|  4.5|          10|\n",
      "|M0XSSHqrASOnhgbWD...|   New Orleans|   LA|Vape Shops, Tobac...|      Herb Import Co|  4.0|           5|\n",
      "|8wGISYjYkE2tSqn3c...|        Kenner|   LA|Automotive, Car R...|    Nifty Car Rental|  3.5|          14|\n",
      "|ROeacJQwBeh05Rqg7...|  Philadelphia|   PA| Korean, Restaurants|                 BAP|  4.5|         205|\n",
      "+--------------------+--------------+-----+--------------------+--------------------+-----+------------+\n",
      "only showing top 20 rows\n",
      "\n"
     ]
    }
   ],
   "source": [
    "# a preview of the dataset with the selected columns\n",
    "df.show()"
   ]
  },
  {
   "cell_type": "code",
   "execution_count": 10,
   "id": "a292d512",
   "metadata": {},
   "outputs": [],
   "source": [
    "# Business question that we need to answer. 1. Top 10 states with the higest average rating but with review_counts more than 1000\n",
    "# 2. Top 10 states with the higesht number of businesses listed on yelp\n",
    "from  pyspark.sql.functions import explode, min, max, avg, sum, count\n",
    "AVGperstate = df.groupBy(\"state\").agg(avg(\"stars\"),sum(\"review_count\"))\n",
    "\n"
   ]
  },
  {
   "cell_type": "code",
   "execution_count": 11,
   "id": "3de1c10e",
   "metadata": {},
   "outputs": [
    {
     "name": "stderr",
     "output_type": "stream",
     "text": [
      "[Stage 2:>                                                          (0 + 2) / 2]\r"
     ]
    },
    {
     "name": "stdout",
     "output_type": "stream",
     "text": [
      "+-----+------------------+-----------------+\n",
      "|state|        avg(stars)|sum(review_count)|\n",
      "+-----+------------------+-----------------+\n",
      "|   AZ|3.5920096852300243|           412639|\n",
      "|   LA| 3.679161628375655|           743176|\n",
      "|   NJ|3.4591143392689783|           249837|\n",
      "|   MI|               2.5|                9|\n",
      "|   NV|3.7368762151652626|           409950|\n",
      "|   ID|3.7076337586747257|           152086|\n",
      "|   CA|3.9967326542379396|           339637|\n",
      "|   MT|               5.0|                6|\n",
      "|   NC|               2.0|               29|\n",
      "|   DE|3.3549668874172185|            67370|\n",
      "|   MO| 3.546091817098873|           483897|\n",
      "|   IL|3.3696969696969696|            49676|\n",
      "|   WA|               3.5|               19|\n",
      "|   IN|3.5882457544234017|           472565|\n",
      "|   TN| 3.571499668214997|           598195|\n",
      "|   PA|3.5730191838773173|          1540790|\n",
      "|   AB| 3.447514803516957|           105477|\n",
      "|   TX|             2.875|               33|\n",
      "|   FL|3.6109570831750855|          1119926|\n",
      "|   CO|               4.0|               30|\n",
      "+-----+------------------+-----------------+\n",
      "only showing top 20 rows\n",
      "\n"
     ]
    },
    {
     "name": "stderr",
     "output_type": "stream",
     "text": [
      "                                                                                \r"
     ]
    }
   ],
   "source": [
    "# getting the average rating and count of reviews by state\n",
    "AVGperstate.show()"
   ]
  },
  {
   "cell_type": "code",
   "execution_count": 12,
   "id": "b6f2ab92",
   "metadata": {},
   "outputs": [],
   "source": [
    "# selecting the states with more than 1000 ratings\n",
    "highestaveragestate=AVGperstate.select('state','avg(stars)','sum(review_count)')\\\n",
    ".where(AVGperstate['sum(review_count)'] > 1000)\\\n",
    ".orderBy(AVGperstate['avg(stars)'].desc())\n",
    "                    "
   ]
  },
  {
   "cell_type": "code",
   "execution_count": 13,
   "id": "9d437668",
   "metadata": {},
   "outputs": [
    {
     "name": "stderr",
     "output_type": "stream",
     "text": [
      "[Stage 5:>                                                          (0 + 2) / 2]\r"
     ]
    },
    {
     "name": "stdout",
     "output_type": "stream",
     "text": [
      "+-----+------------------+-----------------+\n",
      "|state|        avg(stars)|sum(review_count)|\n",
      "+-----+------------------+-----------------+\n",
      "|   CA|3.9967326542379396|           339637|\n",
      "|   NV|3.7368762151652626|           409950|\n",
      "|   ID|3.7076337586747257|           152086|\n",
      "|   LA| 3.679161628375655|           743176|\n",
      "|   FL|3.6109570831750855|          1119926|\n",
      "+-----+------------------+-----------------+\n",
      "only showing top 5 rows\n",
      "\n"
     ]
    },
    {
     "name": "stderr",
     "output_type": "stream",
     "text": [
      "                                                                                \r"
     ]
    }
   ],
   "source": [
    "#answer to our first business question\n",
    "highestaveragestate.show(5)"
   ]
  },
  {
   "cell_type": "code",
   "execution_count": 14,
   "id": "414fa75b",
   "metadata": {},
   "outputs": [],
   "source": [
    "# now moving to our second business question- state with the higest number of restaurants\n",
    "higeshstate = df.groupBy(\"state\").agg(count(\"business_id\"))"
   ]
  },
  {
   "cell_type": "code",
   "execution_count": 15,
   "id": "9e1500ff",
   "metadata": {},
   "outputs": [],
   "source": [
    "higeshstate=higeshstate.select('state','count(business_id)')\\\n",
    ".orderBy(higeshstate['count(business_id)'].desc())"
   ]
  },
  {
   "cell_type": "code",
   "execution_count": 16,
   "id": "e3beb214",
   "metadata": {
    "scrolled": false
   },
   "outputs": [
    {
     "name": "stderr",
     "output_type": "stream",
     "text": [
      "[Stage 8:>                                                          (0 + 2) / 2]\r"
     ]
    },
    {
     "name": "stdout",
     "output_type": "stream",
     "text": [
      "+-----+------------------+\n",
      "|state|count(business_id)|\n",
      "+-----+------------------+\n",
      "|   PA|             34039|\n",
      "|   FL|             26330|\n",
      "|   TN|             12056|\n",
      "|   IN|             11247|\n",
      "|   MO|             10913|\n",
      "+-----+------------------+\n",
      "only showing top 5 rows\n",
      "\n"
     ]
    },
    {
     "name": "stderr",
     "output_type": "stream",
     "text": [
      "                                                                                \r"
     ]
    }
   ],
   "source": [
    "# answer to our second business question\n",
    "higeshstate.show(5)"
   ]
  },
  {
   "cell_type": "code",
   "execution_count": 19,
   "id": "12cec33f",
   "metadata": {},
   "outputs": [
    {
     "name": "stderr",
     "output_type": "stream",
     "text": [
      "                                                                                \r"
     ]
    }
   ],
   "source": [
    "df.write.format(\"parquet\").saveAsTable(\"yelpdata2\")"
   ]
  },
  {
   "cell_type": "code",
   "execution_count": 20,
   "id": "19dbda49",
   "metadata": {},
   "outputs": [
    {
     "name": "stdout",
     "output_type": "stream",
     "text": [
      "+--------------------+--------------+-----+--------------------+--------------------+-----+------------+\n",
      "|         business_id|          city|state|          categories|                name|stars|review_count|\n",
      "+--------------------+--------------+-----+--------------------+--------------------+-----+------------+\n",
      "|Pns2l4eNsfO8kk83d...| Santa Barbara|   CA|Doctors, Traditio...|Abby Rappoport, L...|  5.0|           7|\n",
      "|mpf3x-BjTdTEA3yCZ...|        Affton|   MO|Shipping Centers,...|       The UPS Store|  3.0|          15|\n",
      "|tUFrWirKiKi_TAnsV...|        Tucson|   AZ|Department Stores...|              Target|  3.5|          22|\n",
      "|MTSW4McQd7CbVtyjq...|  Philadelphia|   PA|Restaurants, Food...|  St Honore Pastries|  4.0|          80|\n",
      "|mWMc6_wTdE0EUBKIG...|    Green Lane|   PA|Brewpubs, Breweri...|Perkiomen Valley ...|  4.5|          13|\n",
      "|CF33F8-E6oudUQ46H...|  Ashland City|   TN|Burgers, Fast Foo...|      Sonic Drive-In|  2.0|           6|\n",
      "|n_0UpQx1hsNbnPUSl...|     Brentwood|   MO|Sporting Goods, F...|     Famous Footwear|  2.5|          13|\n",
      "|qkRM_2X51Yqxk3btl...|St. Petersburg|   FL|Synagogues, Relig...|      Temple Beth-El|  3.5|           5|\n",
      "|k0hlBqXX-Bt0vf1op...|        Affton|   MO|Pubs, Restaurants...|Tsevi's Pub And G...|  3.0|          19|\n",
      "|bBDDEgkFA1Otx9Lfe...|     Nashville|   TN|Ice Cream & Froze...|      Sonic Drive-In|  1.5|          10|\n",
      "|UJsufbvfyfONHeWdv...| Land O' Lakes|   FL|Department Stores...|           Marshalls|  3.5|           6|\n",
      "|eEOYSgkmpB90uNA7l...|     Tampa Bay|   FL|Vietnamese, Food,...|Vietnamese Food T...|  4.0|          10|\n",
      "|il_Ro8jwPlHresjw9...|  Indianapolis|   IN|American (Traditi...|             Denny's|  2.5|          28|\n",
      "|jaxMSoInw8Poo3XeM...|    Clearwater|   FL|General Dentistry...|        Adams Dental|  5.0|          10|\n",
      "|0bPLkL0QhhPO5kt1_...|         Largo|   FL|Food, Delis, Ital...|Zio's Italian Market|  4.5|         100|\n",
      "|MUTTqe8uqyMdBl186...|  Philadelphia|   PA|Sushi Bars, Resta...|            Tuna Bar|  4.0|         245|\n",
      "|rBmpy_Y1UbBx8ggHl...|        Tucson|   AZ|Automotive, Auto ...|Arizona Truck Out...|  4.5|          10|\n",
      "|M0XSSHqrASOnhgbWD...|   New Orleans|   LA|Vape Shops, Tobac...|      Herb Import Co|  4.0|           5|\n",
      "|8wGISYjYkE2tSqn3c...|        Kenner|   LA|Automotive, Car R...|    Nifty Car Rental|  3.5|          14|\n",
      "|ROeacJQwBeh05Rqg7...|  Philadelphia|   PA| Korean, Restaurants|                 BAP|  4.5|         205|\n",
      "+--------------------+--------------+-----+--------------------+--------------------+-----+------------+\n",
      "only showing top 20 rows\n",
      "\n"
     ]
    }
   ],
   "source": [
    "spark.sql(\"select * from yelpdata2\").show()"
   ]
  },
  {
   "cell_type": "code",
   "execution_count": 21,
   "id": "12dea6be",
   "metadata": {},
   "outputs": [
    {
     "data": {
      "text/html": [
       "<div>\n",
       "<style scoped>\n",
       "    .dataframe tbody tr th:only-of-type {\n",
       "        vertical-align: middle;\n",
       "    }\n",
       "\n",
       "    .dataframe tbody tr th {\n",
       "        vertical-align: top;\n",
       "    }\n",
       "\n",
       "    .dataframe thead th {\n",
       "        text-align: right;\n",
       "    }\n",
       "</style>\n",
       "<table border=\"1\" class=\"dataframe\">\n",
       "  <thead>\n",
       "    <tr style=\"text-align: right;\">\n",
       "      <th></th>\n",
       "      <th>name</th>\n",
       "      <th>stars</th>\n",
       "    </tr>\n",
       "  </thead>\n",
       "  <tbody>\n",
       "    <tr>\n",
       "      <th>0</th>\n",
       "      <td>District Donuts Sliders Brew</td>\n",
       "      <td>4.5</td>\n",
       "    </tr>\n",
       "  </tbody>\n",
       "</table>\n",
       "</div>"
      ],
      "text/plain": [
       "                           name  stars\n",
       "0  District Donuts Sliders Brew    4.5"
      ]
     },
     "execution_count": 21,
     "metadata": {},
     "output_type": "execute_result"
    }
   ],
   "source": [
    "# using spark SQL we will now get the top rated restaurant in New Orleans with more than 1000 review count\n",
    "spark.sql(\"select name,stars from yelpdata2 where city='New Orleans' and review_count>1000 order by stars desc limit 1\").toPandas()"
   ]
  }
 ],
 "metadata": {
  "kernelspec": {
   "display_name": "Python 3 (ipykernel)",
   "language": "python",
   "name": "python3"
  },
  "language_info": {
   "codemirror_mode": {
    "name": "ipython",
    "version": 3
   },
   "file_extension": ".py",
   "mimetype": "text/x-python",
   "name": "python",
   "nbconvert_exporter": "python",
   "pygments_lexer": "ipython3",
   "version": "3.9.2"
  }
 },
 "nbformat": 4,
 "nbformat_minor": 5
}
