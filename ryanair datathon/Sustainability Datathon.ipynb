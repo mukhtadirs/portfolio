{
 "cells": [
  {
   "cell_type": "code",
   "execution_count": 1,
   "id": "1976e7a8",
   "metadata": {},
   "outputs": [],
   "source": [
    "import pandas as pd\n",
    "import numpy as np\n",
    "import seaborn as sns\n",
    "import matplotlib.pyplot as plt\n",
    "import plotly.offline as py\n",
    "import plotly.graph_objs as go\n",
    "import plotly.express as px\n",
    "from matplotlib.ticker import PercentFormatter\n",
    "import great_circle_calculator.great_circle_calculator as gcc\n",
    "import airportsdata\n",
    "import pandas as pd\n",
    "import matplotlib.pyplot as plt\n",
    "import plotly.offline as py\n",
    "import plotly.graph_objs as go\n",
    "import plotly.express as px\n",
    "from category_encoders import TargetEncoder\n",
    "from sklearn.preprocessing import OneHotEncoder\n",
    "from sklearn import model_selection\n",
    "from sklearn.ensemble import RandomForestRegressor\n",
    "from sklearn.ensemble import ExtraTreesClassifier\n",
    "from sklearn.model_selection import cross_val_score\n",
    "from sklearn.metrics import mean_absolute_error \n",
    "from sklearn.metrics import mean_absolute_percentage_error\n",
    "from sklearn.compose import ColumnTransformer\n",
    "from sklearn import svm\n",
    "import xgboost as xgb\n",
    "from sklearn.model_selection import RandomizedSearchCV\n",
    "from sklearn.model_selection import train_test_split\n",
    "from sklearn.pipeline import Pipeline\n",
    "from sklearn.ensemble import ExtraTreesRegressor\n",
    "from sklearn import set_config\n",
    "\n",
    "\n",
    "pd.options.display.max_columns = None\n",
    "\n",
    "%matplotlib inline\n",
    "\n",
    "np.random.seed(42)"
   ]
  },
  {
   "cell_type": "code",
   "execution_count": 71,
   "id": "d455eefd",
   "metadata": {},
   "outputs": [],
   "source": [
    "# %pip install category_encoders\n",
    "# %pip install airportsdata\n",
    "# %pip install great-circle-calculator"
   ]
  },
  {
   "cell_type": "code",
   "execution_count": 2,
   "id": "cf9a0c40",
   "metadata": {},
   "outputs": [],
   "source": [
    "data_train = pd.read_csv(\"./train.csv\")\n",
    "data_train_ext = pd.read_csv(\"./train_extended.csv\")\n",
    "data_test = pd.read_csv('test.csv')\n",
    "train = pd.read_csv('train_engineered_final.csv')\n",
    "test = pd.read_csv('test_engineered_final.csv')"
   ]
  },
  {
   "cell_type": "markdown",
   "id": "933493c2",
   "metadata": {},
   "source": [
    "## Dataset Info"
   ]
  },
  {
   "cell_type": "code",
   "execution_count": 3,
   "id": "fa56affb",
   "metadata": {},
   "outputs": [
    {
     "data": {
      "text/plain": [
       "<bound method DataFrame.info of          FlightID  FlightNumber AircraftRegistration  AircraftCapacity  \\\n",
       "0       181142302           221                SPRZK             197.0   \n",
       "1       178908306          3373                9HQEC             189.0   \n",
       "2       178886981          2814                9HQCN             189.0   \n",
       "3       180538798          6893                SPRKP             189.0   \n",
       "4       178863684          2156                EIDWJ             189.0   \n",
       "...           ...           ...                  ...               ...   \n",
       "765231  180266656          9852                EIENM             189.0   \n",
       "765232  180731656          1237                EIENM             189.0   \n",
       "765233  181168643          1183                EIEBM             189.0   \n",
       "765234  181143874           297                EIEVI             189.0   \n",
       "765235  181252481          3883                EIEVK             189.0   \n",
       "\n",
       "       AircraftTypeGroup ServiceDescription Carrier AOCDescription  \\\n",
       "0                    Max   Scheduled Flight      FR    Ryanair Sun   \n",
       "1                     NG   Scheduled Flight      FR      Malta Air   \n",
       "2                     NG   Scheduled Flight      FR      Malta Air   \n",
       "3                     NG   Scheduled Flight      FR    Ryanair Sun   \n",
       "4                     NG   Scheduled Flight      FR    Ryanair DAC   \n",
       "...                  ...                ...     ...            ...   \n",
       "765231                NG   Scheduled Flight      FR    Ryanair DAC   \n",
       "765232                NG   Scheduled Flight      FR    Ryanair DAC   \n",
       "765233                NG   Scheduled Flight      FR    Ryanair DAC   \n",
       "765234                NG   Scheduled Flight      FR    Ryanair DAC   \n",
       "765235                NG   Scheduled Flight      FR    Ryanair DAC   \n",
       "\n",
       "       ScheduledRoute ActualRoute   DepartureScheduled     ArrivalScheduled  \\\n",
       "0             EMA-BUD     EMA-BUD  2022-01-24 09:55:00  2022-01-24 12:30:00   \n",
       "1             TRN-MLA     TRN-MLA  2020-03-09 09:00:00  2020-03-09 11:00:00   \n",
       "2             STN-CGN     STN-CGN  2020-01-06 07:35:00  2020-01-06 08:50:00   \n",
       "3             DTM-KTW     DTM-KTW  2020-12-11 07:15:00  2020-12-11 08:45:00   \n",
       "4             BHX-AGP     BHX-AGP  2020-02-07 15:20:00  2020-02-07 18:05:00   \n",
       "...               ...         ...                  ...                  ...   \n",
       "765231        ORK-LGW     ORK-LGW  2020-10-09 09:30:00  2020-10-09 10:55:00   \n",
       "765232        JTR-ATH     JTR-ATH  2021-10-16 21:40:00  2021-10-16 22:25:00   \n",
       "765233        LGW-SNN     LGW-SNN  2022-02-04 13:10:00  2022-02-04 14:40:00   \n",
       "765234        STN-DUB     STN-DUB  2022-01-02 16:50:00  2022-01-02 18:15:00   \n",
       "765235        MLA-LTN     MLA-LTN  2021-12-24 12:45:00  2021-12-24 16:00:00   \n",
       "\n",
       "            DepartureActual        ArrivalActual  BlockTimeScheduled  \\\n",
       "0       2022-01-24 09:59:00  2022-01-24 12:31:00               155.0   \n",
       "1       2020-03-09 08:56:00  2020-03-09 10:50:00               120.0   \n",
       "2       2020-01-06 07:32:00  2020-01-06 08:38:00                75.0   \n",
       "3       2020-12-11 07:30:00  2020-12-11 08:54:00                90.0   \n",
       "4       2020-02-07 16:45:00  2020-02-07 19:35:00               165.0   \n",
       "...                     ...                  ...                 ...   \n",
       "765231  2020-10-09 09:20:00  2020-10-09 10:35:00                85.0   \n",
       "765232  2021-10-16 21:48:00  2021-10-16 22:27:00                45.0   \n",
       "765233  2022-02-04 13:03:00  2022-02-04 14:24:00                90.0   \n",
       "765234  2022-01-02 16:44:00  2022-01-02 17:58:00                85.0   \n",
       "765235  2021-12-24 12:42:00  2021-12-24 15:49:00               195.0   \n",
       "\n",
       "        BlockTime  TaxiOut  Burnoff  Adults  Children  Freight  Infants  Bags  \\\n",
       "0           152.0     12.0   4410.0   112.0       6.0      0.0      2.0  43.0   \n",
       "1           114.0      8.0   3430.0    18.0       0.0      0.0      0.0   7.0   \n",
       "2            66.0     10.0   2080.0   126.0       5.0      0.0      0.0  19.0   \n",
       "3            84.0      7.0   2810.0    84.0       5.0      0.0      1.0   8.0   \n",
       "4           170.0     12.0   6610.0   175.0       2.0      0.0      0.0  47.0   \n",
       "...           ...      ...      ...     ...       ...      ...      ...   ...   \n",
       "765231       75.0     10.0   2360.0    78.0       2.0      0.0      1.0  30.0   \n",
       "765232       39.0      8.0   1460.0   154.0       2.0      0.0      1.0  30.0   \n",
       "765233       81.0      9.0   2990.0   160.0       3.0      0.0      1.0  30.0   \n",
       "765234       74.0     12.0   2140.0    63.0       7.0      0.0      1.0  15.0   \n",
       "765235      187.0      5.0   6570.0    64.0       9.0      0.0      2.0  16.0   \n",
       "\n",
       "        FlightTime  PlannedZeroFuelWeight  PlannedTOW  PlannedTripTime  \\\n",
       "0            137.0                56242.0     62723.0           8246.0   \n",
       "1            102.0                57148.0     63878.0           6227.0   \n",
       "2             50.0                53620.0     58089.0           3653.0   \n",
       "3             71.0                53396.0     58999.0           4784.0   \n",
       "4            155.0                59199.0     68573.0           9275.0   \n",
       "...            ...                    ...         ...              ...   \n",
       "765231        58.0                53763.0     58430.0           3771.0   \n",
       "765232        27.0                58871.0     63911.0           2107.0   \n",
       "765233        70.0                57933.0     63391.0           4249.0   \n",
       "765234        56.0                54651.0     59375.0           3472.0   \n",
       "765235       178.0                56574.0     66408.0          11049.0   \n",
       "\n",
       "        TeledyneRampWeight  \n",
       "0                  62075.0  \n",
       "1                  62002.0  \n",
       "2                  58029.0  \n",
       "3                  56070.0  \n",
       "4                  68315.0  \n",
       "...                    ...  \n",
       "765231             55018.0  \n",
       "765232             61766.0  \n",
       "765233             62583.0  \n",
       "765234             54710.0  \n",
       "765235             59916.0  \n",
       "\n",
       "[765236 rows x 28 columns]>"
      ]
     },
     "execution_count": 3,
     "metadata": {},
     "output_type": "execute_result"
    }
   ],
   "source": [
    "data_train_ext.info"
   ]
  },
  {
   "cell_type": "code",
   "execution_count": 74,
   "id": "37e0fa4a",
   "metadata": {
    "scrolled": false
   },
   "outputs": [],
   "source": [
    "## BACK UP DATA SET, DO NOT RUN\n",
    "\n",
    "#data_train_copy_back_up = data_train\n",
    "#data_train_copy_back_up"
   ]
  },
  {
   "cell_type": "code",
   "execution_count": 75,
   "id": "911a2352",
   "metadata": {
    "scrolled": true
   },
   "outputs": [
    {
     "data": {
      "text/html": [
       "<div>\n",
       "<style scoped>\n",
       "    .dataframe tbody tr th:only-of-type {\n",
       "        vertical-align: middle;\n",
       "    }\n",
       "\n",
       "    .dataframe tbody tr th {\n",
       "        vertical-align: top;\n",
       "    }\n",
       "\n",
       "    .dataframe thead th {\n",
       "        text-align: right;\n",
       "    }\n",
       "</style>\n",
       "<table border=\"1\" class=\"dataframe\">\n",
       "  <thead>\n",
       "    <tr style=\"text-align: right;\">\n",
       "      <th></th>\n",
       "      <th>FlightID</th>\n",
       "      <th>FlightNumber</th>\n",
       "      <th>AircraftRegistration</th>\n",
       "      <th>AircraftCapacity</th>\n",
       "      <th>AircraftTypeGroup</th>\n",
       "      <th>ServiceDescription</th>\n",
       "      <th>Carrier</th>\n",
       "      <th>AOCDescription</th>\n",
       "      <th>ScheduledRoute</th>\n",
       "      <th>DepartureScheduled</th>\n",
       "      <th>ArrivalScheduled</th>\n",
       "      <th>BlockTimeScheduled</th>\n",
       "      <th>Adults</th>\n",
       "      <th>Children</th>\n",
       "      <th>Freight</th>\n",
       "      <th>Infants</th>\n",
       "      <th>Bags</th>\n",
       "      <th>TeledyneRampWeight</th>\n",
       "    </tr>\n",
       "  </thead>\n",
       "  <tbody>\n",
       "    <tr>\n",
       "      <th>0</th>\n",
       "      <td>181142302</td>\n",
       "      <td>221</td>\n",
       "      <td>SPRZK</td>\n",
       "      <td>197.0</td>\n",
       "      <td>Max</td>\n",
       "      <td>Scheduled Flight</td>\n",
       "      <td>FR</td>\n",
       "      <td>Ryanair Sun</td>\n",
       "      <td>EMA-BUD</td>\n",
       "      <td>2022-01-24 09:55:00</td>\n",
       "      <td>2022-01-24 12:30:00</td>\n",
       "      <td>155.0</td>\n",
       "      <td>112.0</td>\n",
       "      <td>6.0</td>\n",
       "      <td>0.0</td>\n",
       "      <td>2.0</td>\n",
       "      <td>43.0</td>\n",
       "      <td>62075.0</td>\n",
       "    </tr>\n",
       "    <tr>\n",
       "      <th>1</th>\n",
       "      <td>178908306</td>\n",
       "      <td>3373</td>\n",
       "      <td>9HQEC</td>\n",
       "      <td>189.0</td>\n",
       "      <td>NG</td>\n",
       "      <td>Scheduled Flight</td>\n",
       "      <td>FR</td>\n",
       "      <td>Malta Air</td>\n",
       "      <td>TRN-MLA</td>\n",
       "      <td>2020-03-09 09:00:00</td>\n",
       "      <td>2020-03-09 11:00:00</td>\n",
       "      <td>120.0</td>\n",
       "      <td>18.0</td>\n",
       "      <td>0.0</td>\n",
       "      <td>0.0</td>\n",
       "      <td>0.0</td>\n",
       "      <td>7.0</td>\n",
       "      <td>62002.0</td>\n",
       "    </tr>\n",
       "    <tr>\n",
       "      <th>2</th>\n",
       "      <td>178886981</td>\n",
       "      <td>2814</td>\n",
       "      <td>9HQCN</td>\n",
       "      <td>189.0</td>\n",
       "      <td>NG</td>\n",
       "      <td>Scheduled Flight</td>\n",
       "      <td>FR</td>\n",
       "      <td>Malta Air</td>\n",
       "      <td>STN-CGN</td>\n",
       "      <td>2020-01-06 07:35:00</td>\n",
       "      <td>2020-01-06 08:50:00</td>\n",
       "      <td>75.0</td>\n",
       "      <td>126.0</td>\n",
       "      <td>5.0</td>\n",
       "      <td>0.0</td>\n",
       "      <td>0.0</td>\n",
       "      <td>19.0</td>\n",
       "      <td>58029.0</td>\n",
       "    </tr>\n",
       "    <tr>\n",
       "      <th>3</th>\n",
       "      <td>180538798</td>\n",
       "      <td>6893</td>\n",
       "      <td>SPRKP</td>\n",
       "      <td>189.0</td>\n",
       "      <td>NG</td>\n",
       "      <td>Scheduled Flight</td>\n",
       "      <td>FR</td>\n",
       "      <td>Ryanair Sun</td>\n",
       "      <td>DTM-KTW</td>\n",
       "      <td>2020-12-11 07:15:00</td>\n",
       "      <td>2020-12-11 08:45:00</td>\n",
       "      <td>90.0</td>\n",
       "      <td>84.0</td>\n",
       "      <td>5.0</td>\n",
       "      <td>0.0</td>\n",
       "      <td>1.0</td>\n",
       "      <td>8.0</td>\n",
       "      <td>56070.0</td>\n",
       "    </tr>\n",
       "    <tr>\n",
       "      <th>4</th>\n",
       "      <td>178863684</td>\n",
       "      <td>2156</td>\n",
       "      <td>EIDWJ</td>\n",
       "      <td>189.0</td>\n",
       "      <td>NG</td>\n",
       "      <td>Scheduled Flight</td>\n",
       "      <td>FR</td>\n",
       "      <td>Ryanair DAC</td>\n",
       "      <td>BHX-AGP</td>\n",
       "      <td>2020-02-07 15:20:00</td>\n",
       "      <td>2020-02-07 18:05:00</td>\n",
       "      <td>165.0</td>\n",
       "      <td>175.0</td>\n",
       "      <td>2.0</td>\n",
       "      <td>0.0</td>\n",
       "      <td>0.0</td>\n",
       "      <td>47.0</td>\n",
       "      <td>68315.0</td>\n",
       "    </tr>\n",
       "  </tbody>\n",
       "</table>\n",
       "</div>"
      ],
      "text/plain": [
       "    FlightID  FlightNumber AircraftRegistration  AircraftCapacity  \\\n",
       "0  181142302           221                SPRZK             197.0   \n",
       "1  178908306          3373                9HQEC             189.0   \n",
       "2  178886981          2814                9HQCN             189.0   \n",
       "3  180538798          6893                SPRKP             189.0   \n",
       "4  178863684          2156                EIDWJ             189.0   \n",
       "\n",
       "  AircraftTypeGroup ServiceDescription Carrier AOCDescription ScheduledRoute  \\\n",
       "0               Max   Scheduled Flight      FR    Ryanair Sun        EMA-BUD   \n",
       "1                NG   Scheduled Flight      FR      Malta Air        TRN-MLA   \n",
       "2                NG   Scheduled Flight      FR      Malta Air        STN-CGN   \n",
       "3                NG   Scheduled Flight      FR    Ryanair Sun        DTM-KTW   \n",
       "4                NG   Scheduled Flight      FR    Ryanair DAC        BHX-AGP   \n",
       "\n",
       "    DepartureScheduled     ArrivalScheduled  BlockTimeScheduled  Adults  \\\n",
       "0  2022-01-24 09:55:00  2022-01-24 12:30:00               155.0   112.0   \n",
       "1  2020-03-09 09:00:00  2020-03-09 11:00:00               120.0    18.0   \n",
       "2  2020-01-06 07:35:00  2020-01-06 08:50:00                75.0   126.0   \n",
       "3  2020-12-11 07:15:00  2020-12-11 08:45:00                90.0    84.0   \n",
       "4  2020-02-07 15:20:00  2020-02-07 18:05:00               165.0   175.0   \n",
       "\n",
       "   Children  Freight  Infants  Bags  TeledyneRampWeight  \n",
       "0       6.0      0.0      2.0  43.0             62075.0  \n",
       "1       0.0      0.0      0.0   7.0             62002.0  \n",
       "2       5.0      0.0      0.0  19.0             58029.0  \n",
       "3       5.0      0.0      1.0   8.0             56070.0  \n",
       "4       2.0      0.0      0.0  47.0             68315.0  "
      ]
     },
     "execution_count": 75,
     "metadata": {},
     "output_type": "execute_result"
    }
   ],
   "source": [
    "data_train.head()"
   ]
  },
  {
   "cell_type": "markdown",
   "id": "2e032cf4",
   "metadata": {},
   "source": [
    "### Histogram plotting cell"
   ]
  },
  {
   "cell_type": "code",
   "execution_count": 76,
   "id": "bb60cd0d",
   "metadata": {},
   "outputs": [],
   "source": [
    "## USE THIS IN CASE YOU WANT TO TAKE A LOOK AT SOME DATA.\n",
    "\n",
    "#histogram_plot = px.histogram(data_train, x = data_train.FlightNumber, y = data_train.Adults)\n",
    "#histogram_plot.show()"
   ]
  },
  {
   "cell_type": "code",
   "execution_count": 77,
   "id": "0b5adc66",
   "metadata": {},
   "outputs": [
    {
     "name": "stdout",
     "output_type": "stream",
     "text": [
      "Unique Values count: 3\n",
      "NG        716946\n",
      "Airbus     26057\n",
      "Max        22233\n",
      "Name: AircraftTypeGroup, dtype: int64\n"
     ]
    },
    {
     "data": {
      "text/plain": [
       "<AxesSubplot:>"
      ]
     },
     "execution_count": 77,
     "metadata": {},
     "output_type": "execute_result"
    },
    {
     "data": {
      "image/png": "[encoded data removed]",
      "text/plain": [
       "<Figure size 432x288 with 1 Axes>"
      ]
     },
     "metadata": {
      "needs_background": "light"
     },
     "output_type": "display_data"
    }
   ],
   "source": [
    "## HISTOGRAM FOR VARIABLE COUNTS DISTRIBUTIONS. \n",
    "\n",
    "print(\"Unique Values count: \" + str(data_train.AircraftTypeGroup.nunique()))\n",
    "print(str(data_train.AircraftTypeGroup.value_counts()))\n",
    "\n",
    "data_train.AircraftTypeGroup.hist()"
   ]
  },
  {
   "cell_type": "markdown",
   "id": "399b1aac",
   "metadata": {},
   "source": [
    "### Dataframe information: Non-Null values and datatypes"
   ]
  },
  {
   "cell_type": "code",
   "execution_count": 78,
   "id": "b6f97d88",
   "metadata": {},
   "outputs": [
    {
     "name": "stdout",
     "output_type": "stream",
     "text": [
      "<class 'pandas.core.frame.DataFrame'>\n",
      "RangeIndex: 765236 entries, 0 to 765235\n",
      "Data columns (total 18 columns):\n",
      " #   Column                Non-Null Count   Dtype  \n",
      "---  ------                --------------   -----  \n",
      " 0   FlightID              765236 non-null  int64  \n",
      " 1   FlightNumber          765236 non-null  int64  \n",
      " 2   AircraftRegistration  765236 non-null  object \n",
      " 3   AircraftCapacity      765236 non-null  float64\n",
      " 4   AircraftTypeGroup     765236 non-null  object \n",
      " 5   ServiceDescription    765236 non-null  object \n",
      " 6   Carrier               765236 non-null  object \n",
      " 7   AOCDescription        765236 non-null  object \n",
      " 8   ScheduledRoute        765236 non-null  object \n",
      " 9   DepartureScheduled    765236 non-null  object \n",
      " 10  ArrivalScheduled      765236 non-null  object \n",
      " 11  BlockTimeScheduled    765236 non-null  float64\n",
      " 12  Adults                765236 non-null  float64\n",
      " 13  Children              765236 non-null  float64\n",
      " 14  Freight               765236 non-null  float64\n",
      " 15  Infants               765236 non-null  float64\n",
      " 16  Bags                  765236 non-null  float64\n",
      " 17  TeledyneRampWeight    765236 non-null  float64\n",
      "dtypes: float64(8), int64(2), object(8)\n",
      "memory usage: 105.1+ MB\n"
     ]
    }
   ],
   "source": [
    "data_train.info()"
   ]
  },
  {
   "cell_type": "markdown",
   "id": "2b9e6bb1",
   "metadata": {},
   "source": [
    "### Correlation Matrix"
   ]
  },
  {
   "cell_type": "code",
   "execution_count": 79,
   "id": "8e3ad796",
   "metadata": {},
   "outputs": [
    {
     "data": {
      "image/png": "[encoded data removed]",
      "text/plain": [
       "<Figure size 1080x1080 with 2 Axes>"
      ]
     },
     "metadata": {
      "needs_background": "light"
     },
     "output_type": "display_data"
    }
   ],
   "source": [
    "## CORRELATION BETWEEN ALL NUMERICAL VARIABLES: \n",
    "\n",
    "corr_mat = data_train.corr()\n",
    "fig_corr, ax = plt.subplots(figsize=(15,15))\n",
    "ax = sns.heatmap(corr_mat, cmap='RdBu', vmin=-1, vmax=1, annot=True, \n",
    "            annot_kws={'fontsize':11, 'fontweight':'bold'},\n",
    "           square=True);\n",
    "ax;"
   ]
  },
  {
   "cell_type": "markdown",
   "id": "b211eb22",
   "metadata": {},
   "source": [
    "## CHANGING DATA TYPES TO CATEGORICAL VARIABLES\n",
    "### Change Object to Category"
   ]
  },
  {
   "cell_type": "code",
   "execution_count": 80,
   "id": "144abb89",
   "metadata": {},
   "outputs": [
    {
     "data": {
      "text/plain": [
       "FlightID                category\n",
       "FlightNumber            category\n",
       "AircraftRegistration    category\n",
       "AircraftCapacity         float64\n",
       "AircraftTypeGroup       category\n",
       "ServiceDescription      category\n",
       "Carrier                 category\n",
       "AOCDescription          category\n",
       "ScheduledRoute          category\n",
       "DepartureScheduled        object\n",
       "ArrivalScheduled          object\n",
       "BlockTimeScheduled       float64\n",
       "Adults                   float64\n",
       "Children                 float64\n",
       "Freight                  float64\n",
       "Infants                  float64\n",
       "Bags                     float64\n",
       "TeledyneRampWeight       float64\n",
       "dtype: object"
      ]
     },
     "execution_count": 80,
     "metadata": {},
     "output_type": "execute_result"
    }
   ],
   "source": [
    "## Because we have categorical variables as \"objects\" we need to apply some function to transform their datatype. \n",
    "\n",
    "data_train['FlightID'] = data_train.FlightID.astype('category')\n",
    "data_train['FlightNumber'] = data_train.FlightNumber.astype('category')\n",
    "data_train['AircraftRegistration'] = data_train.AircraftRegistration.astype('category')\n",
    "data_train['AircraftTypeGroup'] = data_train.AircraftTypeGroup.astype('category')\n",
    "data_train['ServiceDescription'] = data_train.ServiceDescription.astype('category')\n",
    "data_train['Carrier'] = data_train.Carrier.astype('category')\n",
    "data_train['AOCDescription'] = data_train.AOCDescription.astype('category')\n",
    "data_train['ScheduledRoute'] = data_train.ScheduledRoute.astype('category')\n",
    "\n",
    "data_train.dtypes\n"
   ]
  },
  {
   "cell_type": "code",
   "execution_count": 81,
   "id": "7b6e87a2",
   "metadata": {},
   "outputs": [
    {
     "data": {
      "text/plain": [
       "189.0    716856\n",
       "180.0     26057\n",
       "197.0     22233\n",
       "148.0        90\n",
       "Name: AircraftCapacity, dtype: int64"
      ]
     },
     "execution_count": 81,
     "metadata": {},
     "output_type": "execute_result"
    }
   ],
   "source": [
    "data_train.AircraftCapacity.value_counts()"
   ]
  },
  {
   "cell_type": "code",
   "execution_count": 82,
   "id": "97b4fa73",
   "metadata": {
    "scrolled": false
   },
   "outputs": [
    {
     "data": {
      "text/plain": [
       "DUB-STN    2343\n",
       "STN-DUB    2289\n",
       "DUB-LGW    2213\n",
       "CTA-FCO    2202\n",
       "FCO-CTA    2165\n",
       "           ... \n",
       "TLS-MAN       1\n",
       "NAP-SUF       1\n",
       "CGN-EIN       1\n",
       "BFS-SXF       1\n",
       "TPS-BLL       1\n",
       "Name: ScheduledRoute, Length: 6198, dtype: int64"
      ]
     },
     "execution_count": 82,
     "metadata": {},
     "output_type": "execute_result"
    }
   ],
   "source": [
    "## Because of categorical features, we need to know if we'll use some encoding method. First step is to check for\n",
    "## a value count. Knowing the amount of values will give us the total amount of new columns. \n",
    "\n",
    "#data_train[\"AircraftRegistration\"].value_counts()\n",
    "#data_train[\"AircraftTypeGroup\"].value_counts()\n",
    "#data_train[\"ServiceDescription\"].value_counts()\n",
    "#data_train[\"Carrier\"].value_counts()\n",
    "data_train[\"ScheduledRoute\"].value_counts()"
   ]
  },
  {
   "cell_type": "code",
   "execution_count": 83,
   "id": "3ff8fd35",
   "metadata": {},
   "outputs": [
    {
     "data": {
      "image/png": "[encoded data removed]",
      "text/plain": [
       "<Figure size 1440x1080 with 9 Axes>"
      ]
     },
     "metadata": {
      "needs_background": "light"
     },
     "output_type": "display_data"
    }
   ],
   "source": [
    "%matplotlib inline\n",
    "import matplotlib.pyplot as plt\n",
    "data_train.hist(bins=50, figsize=(20,15))\n",
    "plt.show()"
   ]
  },
  {
   "cell_type": "code",
   "execution_count": 84,
   "id": "49b0fd60",
   "metadata": {},
   "outputs": [
    {
     "data": {
      "text/plain": [
       "TeledyneRampWeight    1.000000\n",
       "Adults                0.682161\n",
       "Bags                  0.486639\n",
       "BlockTimeScheduled    0.328049\n",
       "Children              0.263749\n",
       "Infants               0.201968\n",
       "AircraftCapacity      0.093802\n",
       "Freight               0.000640\n",
       "Name: TeledyneRampWeight, dtype: float64"
      ]
     },
     "execution_count": 84,
     "metadata": {},
     "output_type": "execute_result"
    }
   ],
   "source": [
    "## Let's take a look on how much information our features are giving us by calculating the lienar correlation\n",
    "## against our Target Variable\n",
    "\n",
    "corr_matrix = data_train.corr()\n",
    "corr_matrix[\"TeledyneRampWeight\"].sort_values(ascending=False)"
   ]
  },
  {
   "cell_type": "code",
   "execution_count": 85,
   "id": "bfa8dca2",
   "metadata": {
    "scrolled": false
   },
   "outputs": [
    {
     "data": {
      "text/html": [
       "<div>\n",
       "<style scoped>\n",
       "    .dataframe tbody tr th:only-of-type {\n",
       "        vertical-align: middle;\n",
       "    }\n",
       "\n",
       "    .dataframe tbody tr th {\n",
       "        vertical-align: top;\n",
       "    }\n",
       "\n",
       "    .dataframe thead th {\n",
       "        text-align: right;\n",
       "    }\n",
       "</style>\n",
       "<table border=\"1\" class=\"dataframe\">\n",
       "  <thead>\n",
       "    <tr style=\"text-align: right;\">\n",
       "      <th></th>\n",
       "      <th>FlightID</th>\n",
       "      <th>FlightNumber</th>\n",
       "      <th>AircraftRegistration</th>\n",
       "      <th>AircraftCapacity</th>\n",
       "      <th>AircraftTypeGroup</th>\n",
       "      <th>ServiceDescription</th>\n",
       "      <th>Carrier</th>\n",
       "      <th>AOCDescription</th>\n",
       "      <th>ScheduledRoute</th>\n",
       "      <th>DepartureScheduled</th>\n",
       "      <th>ArrivalScheduled</th>\n",
       "      <th>BlockTimeScheduled</th>\n",
       "      <th>Adults</th>\n",
       "      <th>Children</th>\n",
       "      <th>Freight</th>\n",
       "      <th>Infants</th>\n",
       "      <th>Bags</th>\n",
       "      <th>TeledyneRampWeight</th>\n",
       "    </tr>\n",
       "  </thead>\n",
       "  <tbody>\n",
       "    <tr>\n",
       "      <th>0</th>\n",
       "      <td>181142302</td>\n",
       "      <td>221</td>\n",
       "      <td>SPRZK</td>\n",
       "      <td>197.0</td>\n",
       "      <td>Max</td>\n",
       "      <td>Scheduled Flight</td>\n",
       "      <td>FR</td>\n",
       "      <td>Ryanair Sun</td>\n",
       "      <td>EMA-BUD</td>\n",
       "      <td>2022-01-24 09:55:00</td>\n",
       "      <td>2022-01-24 12:30:00</td>\n",
       "      <td>155.0</td>\n",
       "      <td>112.0</td>\n",
       "      <td>6.0</td>\n",
       "      <td>0.0</td>\n",
       "      <td>2.0</td>\n",
       "      <td>43.0</td>\n",
       "      <td>62075.0</td>\n",
       "    </tr>\n",
       "    <tr>\n",
       "      <th>1</th>\n",
       "      <td>178908306</td>\n",
       "      <td>3373</td>\n",
       "      <td>9HQEC</td>\n",
       "      <td>189.0</td>\n",
       "      <td>NG</td>\n",
       "      <td>Scheduled Flight</td>\n",
       "      <td>FR</td>\n",
       "      <td>Malta Air</td>\n",
       "      <td>TRN-MLA</td>\n",
       "      <td>2020-03-09 09:00:00</td>\n",
       "      <td>2020-03-09 11:00:00</td>\n",
       "      <td>120.0</td>\n",
       "      <td>18.0</td>\n",
       "      <td>0.0</td>\n",
       "      <td>0.0</td>\n",
       "      <td>0.0</td>\n",
       "      <td>7.0</td>\n",
       "      <td>62002.0</td>\n",
       "    </tr>\n",
       "    <tr>\n",
       "      <th>2</th>\n",
       "      <td>178886981</td>\n",
       "      <td>2814</td>\n",
       "      <td>9HQCN</td>\n",
       "      <td>189.0</td>\n",
       "      <td>NG</td>\n",
       "      <td>Scheduled Flight</td>\n",
       "      <td>FR</td>\n",
       "      <td>Malta Air</td>\n",
       "      <td>STN-CGN</td>\n",
       "      <td>2020-01-06 07:35:00</td>\n",
       "      <td>2020-01-06 08:50:00</td>\n",
       "      <td>75.0</td>\n",
       "      <td>126.0</td>\n",
       "      <td>5.0</td>\n",
       "      <td>0.0</td>\n",
       "      <td>0.0</td>\n",
       "      <td>19.0</td>\n",
       "      <td>58029.0</td>\n",
       "    </tr>\n",
       "    <tr>\n",
       "      <th>3</th>\n",
       "      <td>180538798</td>\n",
       "      <td>6893</td>\n",
       "      <td>SPRKP</td>\n",
       "      <td>189.0</td>\n",
       "      <td>NG</td>\n",
       "      <td>Scheduled Flight</td>\n",
       "      <td>FR</td>\n",
       "      <td>Ryanair Sun</td>\n",
       "      <td>DTM-KTW</td>\n",
       "      <td>2020-12-11 07:15:00</td>\n",
       "      <td>2020-12-11 08:45:00</td>\n",
       "      <td>90.0</td>\n",
       "      <td>84.0</td>\n",
       "      <td>5.0</td>\n",
       "      <td>0.0</td>\n",
       "      <td>1.0</td>\n",
       "      <td>8.0</td>\n",
       "      <td>56070.0</td>\n",
       "    </tr>\n",
       "    <tr>\n",
       "      <th>4</th>\n",
       "      <td>178863684</td>\n",
       "      <td>2156</td>\n",
       "      <td>EIDWJ</td>\n",
       "      <td>189.0</td>\n",
       "      <td>NG</td>\n",
       "      <td>Scheduled Flight</td>\n",
       "      <td>FR</td>\n",
       "      <td>Ryanair DAC</td>\n",
       "      <td>BHX-AGP</td>\n",
       "      <td>2020-02-07 15:20:00</td>\n",
       "      <td>2020-02-07 18:05:00</td>\n",
       "      <td>165.0</td>\n",
       "      <td>175.0</td>\n",
       "      <td>2.0</td>\n",
       "      <td>0.0</td>\n",
       "      <td>0.0</td>\n",
       "      <td>47.0</td>\n",
       "      <td>68315.0</td>\n",
       "    </tr>\n",
       "    <tr>\n",
       "      <th>5</th>\n",
       "      <td>180826676</td>\n",
       "      <td>4731</td>\n",
       "      <td>9HQBG</td>\n",
       "      <td>189.0</td>\n",
       "      <td>NG</td>\n",
       "      <td>Scheduled Flight</td>\n",
       "      <td>FR</td>\n",
       "      <td>Malta Air</td>\n",
       "      <td>BGY-BER</td>\n",
       "      <td>2021-09-17 10:20:00</td>\n",
       "      <td>2021-09-17 12:00:00</td>\n",
       "      <td>100.0</td>\n",
       "      <td>164.0</td>\n",
       "      <td>2.0</td>\n",
       "      <td>0.0</td>\n",
       "      <td>2.0</td>\n",
       "      <td>36.0</td>\n",
       "      <td>63798.0</td>\n",
       "    </tr>\n",
       "    <tr>\n",
       "      <th>6</th>\n",
       "      <td>180858684</td>\n",
       "      <td>5919</td>\n",
       "      <td>9HQDH</td>\n",
       "      <td>189.0</td>\n",
       "      <td>NG</td>\n",
       "      <td>Scheduled Flight</td>\n",
       "      <td>FR</td>\n",
       "      <td>Malta Air</td>\n",
       "      <td>PMO-BRI</td>\n",
       "      <td>2021-07-30 17:05:00</td>\n",
       "      <td>2021-07-30 18:25:00</td>\n",
       "      <td>80.0</td>\n",
       "      <td>169.0</td>\n",
       "      <td>2.0</td>\n",
       "      <td>0.0</td>\n",
       "      <td>1.0</td>\n",
       "      <td>53.0</td>\n",
       "      <td>62238.0</td>\n",
       "    </tr>\n",
       "    <tr>\n",
       "      <th>7</th>\n",
       "      <td>180091505</td>\n",
       "      <td>6366</td>\n",
       "      <td>EIEBR</td>\n",
       "      <td>189.0</td>\n",
       "      <td>NG</td>\n",
       "      <td>Scheduled Flight</td>\n",
       "      <td>FR</td>\n",
       "      <td>Ryanair DAC</td>\n",
       "      <td>BGY-BCN</td>\n",
       "      <td>2020-09-11 21:50:00</td>\n",
       "      <td>2020-09-11 23:25:00</td>\n",
       "      <td>95.0</td>\n",
       "      <td>71.0</td>\n",
       "      <td>0.0</td>\n",
       "      <td>0.0</td>\n",
       "      <td>0.0</td>\n",
       "      <td>9.0</td>\n",
       "      <td>54492.0</td>\n",
       "    </tr>\n",
       "    <tr>\n",
       "      <th>8</th>\n",
       "      <td>180113295</td>\n",
       "      <td>6728</td>\n",
       "      <td>SPRSD</td>\n",
       "      <td>189.0</td>\n",
       "      <td>NG</td>\n",
       "      <td>Scheduled Flight</td>\n",
       "      <td>FR</td>\n",
       "      <td>Ryanair Sun</td>\n",
       "      <td>CRL-KRK</td>\n",
       "      <td>2020-08-04 06:55:00</td>\n",
       "      <td>2020-08-04 08:50:00</td>\n",
       "      <td>115.0</td>\n",
       "      <td>129.0</td>\n",
       "      <td>12.0</td>\n",
       "      <td>0.0</td>\n",
       "      <td>6.0</td>\n",
       "      <td>36.0</td>\n",
       "      <td>60859.0</td>\n",
       "    </tr>\n",
       "  </tbody>\n",
       "</table>\n",
       "</div>"
      ],
      "text/plain": [
       "    FlightID FlightNumber AircraftRegistration  AircraftCapacity  \\\n",
       "0  181142302          221                SPRZK             197.0   \n",
       "1  178908306         3373                9HQEC             189.0   \n",
       "2  178886981         2814                9HQCN             189.0   \n",
       "3  180538798         6893                SPRKP             189.0   \n",
       "4  178863684         2156                EIDWJ             189.0   \n",
       "5  180826676         4731                9HQBG             189.0   \n",
       "6  180858684         5919                9HQDH             189.0   \n",
       "7  180091505         6366                EIEBR             189.0   \n",
       "8  180113295         6728                SPRSD             189.0   \n",
       "\n",
       "  AircraftTypeGroup ServiceDescription Carrier AOCDescription ScheduledRoute  \\\n",
       "0               Max   Scheduled Flight      FR    Ryanair Sun        EMA-BUD   \n",
       "1                NG   Scheduled Flight      FR      Malta Air        TRN-MLA   \n",
       "2                NG   Scheduled Flight      FR      Malta Air        STN-CGN   \n",
       "3                NG   Scheduled Flight      FR    Ryanair Sun        DTM-KTW   \n",
       "4                NG   Scheduled Flight      FR    Ryanair DAC        BHX-AGP   \n",
       "5                NG   Scheduled Flight      FR      Malta Air        BGY-BER   \n",
       "6                NG   Scheduled Flight      FR      Malta Air        PMO-BRI   \n",
       "7                NG   Scheduled Flight      FR    Ryanair DAC        BGY-BCN   \n",
       "8                NG   Scheduled Flight      FR    Ryanair Sun        CRL-KRK   \n",
       "\n",
       "    DepartureScheduled     ArrivalScheduled  BlockTimeScheduled  Adults  \\\n",
       "0  2022-01-24 09:55:00  2022-01-24 12:30:00               155.0   112.0   \n",
       "1  2020-03-09 09:00:00  2020-03-09 11:00:00               120.0    18.0   \n",
       "2  2020-01-06 07:35:00  2020-01-06 08:50:00                75.0   126.0   \n",
       "3  2020-12-11 07:15:00  2020-12-11 08:45:00                90.0    84.0   \n",
       "4  2020-02-07 15:20:00  2020-02-07 18:05:00               165.0   175.0   \n",
       "5  2021-09-17 10:20:00  2021-09-17 12:00:00               100.0   164.0   \n",
       "6  2021-07-30 17:05:00  2021-07-30 18:25:00                80.0   169.0   \n",
       "7  2020-09-11 21:50:00  2020-09-11 23:25:00                95.0    71.0   \n",
       "8  2020-08-04 06:55:00  2020-08-04 08:50:00               115.0   129.0   \n",
       "\n",
       "   Children  Freight  Infants  Bags  TeledyneRampWeight  \n",
       "0       6.0      0.0      2.0  43.0             62075.0  \n",
       "1       0.0      0.0      0.0   7.0             62002.0  \n",
       "2       5.0      0.0      0.0  19.0             58029.0  \n",
       "3       5.0      0.0      1.0   8.0             56070.0  \n",
       "4       2.0      0.0      0.0  47.0             68315.0  \n",
       "5       2.0      0.0      2.0  36.0             63798.0  \n",
       "6       2.0      0.0      1.0  53.0             62238.0  \n",
       "7       0.0      0.0      0.0   9.0             54492.0  \n",
       "8      12.0      0.0      6.0  36.0             60859.0  "
      ]
     },
     "execution_count": 85,
     "metadata": {},
     "output_type": "execute_result"
    }
   ],
   "source": [
    "data_train.head(9)"
   ]
  },
  {
   "cell_type": "markdown",
   "id": "9ef0db49",
   "metadata": {},
   "source": [
    "### Unique values count"
   ]
  },
  {
   "cell_type": "code",
   "execution_count": 86,
   "id": "7ef82bdd",
   "metadata": {},
   "outputs": [
    {
     "name": "stdout",
     "output_type": "stream",
     "text": [
      "Unique Values count: 6198\n"
     ]
    },
    {
     "data": {
      "text/plain": [
       "DUB-STN    2343\n",
       "STN-DUB    2289\n",
       "DUB-LGW    2213\n",
       "CTA-FCO    2202\n",
       "FCO-CTA    2165\n",
       "           ... \n",
       "TLS-MAN       1\n",
       "NAP-SUF       1\n",
       "CGN-EIN       1\n",
       "BFS-SXF       1\n",
       "TPS-BLL       1\n",
       "Name: ScheduledRoute, Length: 6198, dtype: int64"
      ]
     },
     "execution_count": 86,
     "metadata": {},
     "output_type": "execute_result"
    }
   ],
   "source": [
    "print(\"Unique Values count: \" + str(data_train.ScheduledRoute.nunique()))\n",
    "data_train.ScheduledRoute.value_counts()"
   ]
  },
  {
   "cell_type": "code",
   "execution_count": 87,
   "id": "11d5d247",
   "metadata": {},
   "outputs": [
    {
     "data": {
      "text/plain": [
       "DUB-STN    2343\n",
       "STN-DUB    2289\n",
       "DUB-LGW    2213\n",
       "CTA-FCO    2202\n",
       "FCO-CTA    2165\n",
       "           ... \n",
       "TLS-MAN       1\n",
       "NAP-SUF       1\n",
       "CGN-EIN       1\n",
       "BFS-SXF       1\n",
       "TPS-BLL       1\n",
       "Name: ScheduledRoute, Length: 6198, dtype: int64"
      ]
     },
     "execution_count": 87,
     "metadata": {},
     "output_type": "execute_result"
    }
   ],
   "source": [
    "data_train.ScheduledRoute.value_counts()"
   ]
  },
  {
   "cell_type": "markdown",
   "id": "51aca852",
   "metadata": {},
   "source": [
    "#### Preparing our data for processing. "
   ]
  },
  {
   "cell_type": "code",
   "execution_count": 88,
   "id": "580d6bbe",
   "metadata": {},
   "outputs": [
    {
     "data": {
      "text/plain": [
       "count     765236\n",
       "unique       693\n",
       "top        9HQAC\n",
       "freq        2209\n",
       "Name: AircraftRegistration, dtype: object"
      ]
     },
     "execution_count": 88,
     "metadata": {},
     "output_type": "execute_result"
    }
   ],
   "source": [
    "data_train.AircraftRegistration.describe()"
   ]
  },
  {
   "cell_type": "code",
   "execution_count": 89,
   "id": "a1c4dbd1",
   "metadata": {},
   "outputs": [
    {
     "data": {
      "text/plain": [
       "count      765236\n",
       "unique       6198\n",
       "top       DUB-STN\n",
       "freq         2343\n",
       "Name: ScheduledRoute, dtype: object"
      ]
     },
     "execution_count": 89,
     "metadata": {},
     "output_type": "execute_result"
    }
   ],
   "source": [
    "data_train.ScheduledRoute.describe()"
   ]
  },
  {
   "cell_type": "code",
   "execution_count": 90,
   "id": "4ff2f02c",
   "metadata": {},
   "outputs": [
    {
     "data": {
      "text/plain": [
       "count     765236\n",
       "unique         3\n",
       "top           NG\n",
       "freq      716946\n",
       "Name: AircraftTypeGroup, dtype: object"
      ]
     },
     "execution_count": 90,
     "metadata": {},
     "output_type": "execute_result"
    }
   ],
   "source": [
    "data_train.AircraftTypeGroup.describe()"
   ]
  },
  {
   "cell_type": "markdown",
   "id": "7e9cbd18",
   "metadata": {},
   "source": [
    "## Feature Engineering"
   ]
  },
  {
   "cell_type": "code",
   "execution_count": 4,
   "id": "ee4acc8e",
   "metadata": {},
   "outputs": [],
   "source": [
    "### Computing Payload \n",
    "def Payload(dataframe):\n",
    "    ## Assumptions made on weight based on slides provided and statistics\n",
    "    avg_weight_adult = 84\n",
    "    avg_weight_children = 35\n",
    "    avg_weight_infant = 3.5\n",
    "    avg_weight_bag = 15\n",
    "\n",
    "    ## transforming Given columns to incorporate weight of each of them\n",
    "    dataframe['Adults'] = dataframe.Adults*avg_weight_adult\n",
    "    dataframe['Children'] = dataframe.Children*avg_weight_children\n",
    "    dataframe['Infants'] = dataframe.Infants*avg_weight_infant\n",
    "    dataframe['Bags'] = dataframe.Bags*avg_weight_bag\n",
    "    \n",
    "    ## PAX: Passenger Weight\n",
    "    PAX = dataframe.Adults+dataframe.Children+dataframe.Infants\n",
    "    \n",
    "    ## TP: Total Payload --> PAX + Freight Weight + Bags Weight\n",
    "    dataframe['TP'] = dataframe.Freight + dataframe.Bags + PAX\n",
    "    \n",
    "    dataframe.drop(['Adults','Children','Infants','Bags','Freight'], axis=1, inplace=True)\n",
    "    return dataframe;"
   ]
  },
  {
   "cell_type": "code",
   "execution_count": 5,
   "id": "1fa03344",
   "metadata": {},
   "outputs": [],
   "source": [
    "data_train_ext=Payload(data_train_ext)\n",
    "data_test=Payload(data_test)"
   ]
  },
  {
   "cell_type": "markdown",
   "id": "068d5dd4",
   "metadata": {},
   "source": [
    "## Intermediate Model to Predict Burnoff onto the Test Set"
   ]
  },
  {
   "cell_type": "raw",
   "id": "05331cd6",
   "metadata": {},
   "source": [
    "vars = ['AircraftRegistration','AircraftCapacity','AircraftTypeGroup','ServiceDescription','AOCDescription',\n",
    "        'ScheduledRoute','BlockTimeScheduled','Burnoff','Payload']\n",
    "df_test = data_test\n",
    "df = data_train_ext\n",
    "df = df.loc[:,vars]\n",
    "\n",
    "ohe_cats=['ServiceDescription','AircraftCapacity','AircraftTypeGroup','AOCDescription']\n",
    "target_encoding_cats=['AircraftRegistration','ScheduledRoute']\n",
    "\n",
    "\n",
    "# Create X (all columns except target)\n",
    "X = df.drop(\"Burnoff\",axis=1)\n",
    "\n",
    "# Create y (only the target column)\n",
    "y = df[\"Burnoff\"]\n",
    "\n",
    "\n",
    "transformer = ColumnTransformer(transformers=[\n",
    "    ('TAR',TargetEncoder(),target_encoding_cats),\n",
    "    ('OHE',OneHotEncoder(sparse=False,drop='first'),ohe_cats)],\n",
    "     remainder='passthrough')\n",
    "\n",
    "\n",
    "Xtrain_transformed=transformer.fit_transform(X, y)\n",
    "\n",
    "regr = RandomForestRegressor(max_depth=None, n_estimators= 1200, min_samples_split= 6, min_samples_leaf=2,\n",
    "                             max_features='sqrt',random_state=0)\n",
    "regr.fit(Xtrain_transformed, y)\n",
    "\n",
    "### Transforming the test set to run predictions for burnoff\n",
    "df['AircraftCapacity']=df['AircraftCapacity'].astype('object')\n",
    "df_test['AircraftCapacity']=df_test['AircraftCapacity'].astype('object')\n",
    "\n",
    "df_test.drop(['FlightNumber','DepartureScheduled','ArrivalScheduled','Bags','Infants','Freight','Children','Adults'], axis=1, inplace=True)\n",
    "df_test.drop('Carrier', axis=1, inplace=True)\n",
    "df_test.drop('FlightID', axis=1, inplace=True)\n",
    "\n",
    "df_test_transformed=transformer.transform(df_test)\n",
    "\n",
    "preds=regr.predict(df_test_transformed)\n",
    "\n",
    "df_test = pd.read_csv('test.csv')\n",
    "df_test['Burnoff']=preds\n",
    "data_test = df_test['Burnoff']"
   ]
  },
  {
   "cell_type": "markdown",
   "id": "ca1f91ee",
   "metadata": {},
   "source": [
    "## Intermediate Model to Predict Fuel onto the Test Set\n"
   ]
  },
  {
   "cell_type": "raw",
   "id": "cc7e45d5",
   "metadata": {},
   "source": [
    "\n",
    "df['Fuel']=data_train_ext['PlannedZeroFuelWeight']-data_train_ext['TeledyneRampWeight']\n",
    "\n",
    "vars = ['AircraftRegistration','AircraftCapacity','AircraftTypeGroup','ServiceDescription','AOCDescription',\n",
    "        'ScheduledRoute','BlockTimeScheduled','Burnoff','Payload', 'Fuel']\n",
    "\n",
    "ohe_cats=['ServiceDescription','AircraftCapacity','AircraftTypeGroup']\n",
    "target_encoding_cats=['AircraftRegistration','AOCDescription','ScheduledRoute']\n",
    "\n",
    "# Create X (all columns except target)\n",
    "X = df.drop(\"Fuel\",axis=1)\n",
    "\n",
    "# Create y (only the target column)\n",
    "y = df[\"Fuel\"]\n",
    "\n",
    "X_train, X_test, y_train, y_test = train_test_split(X,y,test_size=0.20) \n",
    "# Run this if testing needs to be done on training set\n",
    "\n",
    "# this is defining the column transformers\n",
    "transformer = ColumnTransformer(transformers=[\n",
    "    ('TAR',TargetEncoder(),target_encoding_cats),\n",
    "    ('OHE',OneHotEncoder(sparse=False,drop='first'),ohe_cats)],\n",
    "     remainder='passthrough')\n",
    "\n",
    "\n",
    "# This means you are transforming the entire training set\n",
    "# X_transformed=transformer.fit_transform(X, y)\n",
    "\n",
    "regr = RandomForestRegressor(max_depth=None, n_estimators= 1200, min_samples_split= 6, min_samples_leaf=2,\n",
    "                             max_features='sqrt',random_state=0)\n",
    "\n",
    "# Run this if you have split the training set\n",
    "regr.fit(X_transformed, y)\n",
    "\n",
    "\n",
    "#test set preprocessing\n",
    "\n",
    "df_test['Adults'] = df_test['Adults']*avg_weight_adult\n",
    "df_test['Children'] = df_test['Children']*avg_weight_children\n",
    "df_test['Infants'] = df_test['Infants']*avg_weight_infant\n",
    "df_test['Bags'] = df_test['Bags']*avg_weight_bag\n",
    "df_test['Payload']= df_test['Adults'] + df_test['Children'] + df_test['Infants'] + df_test['Bags'] + df_test['Freight']\n",
    "df_test.drop(['Adults','Children','Infants','Bags'], axis=1, inplace=True)\n",
    "df_test.drop(['Freight'], axis=1, inplace=True)\n",
    "df_test['AircraftCapacity'] = df_test['AircraftCapacity'].astype(str)\n",
    "\n",
    "df_test_transformed=transformer.transform(df_test)\n",
    "fuel=regr.predict(df_test_transformed)\n",
    "df_test['Fuel']=fuel\n",
    "data_test['Fuel'] = df_test['Fuel']"
   ]
  },
  {
   "cell_type": "markdown",
   "id": "df19557a",
   "metadata": {},
   "source": [
    "#### The engineered Train and Test set both include Fuel And Burnoff calculated on the intermediate Steps"
   ]
  },
  {
   "cell_type": "markdown",
   "id": "4e2aaa69",
   "metadata": {},
   "source": [
    "## Route Distance Computation"
   ]
  },
  {
   "cell_type": "code",
   "execution_count": 93,
   "id": "18a5b072",
   "metadata": {},
   "outputs": [],
   "source": [
    "## Function to compute distances between origin and destination airports\n",
    "def route_dist(dataframe, x):\n",
    "    ## loading airport data \n",
    "    airports = airportsdata.load('name')\n",
    "    airports = pd.DataFrame(airports)\n",
    "    airports = airports.T\n",
    "    \n",
    "    if x=='A':\n",
    "        a=dataframe[\"ActualRoute\"].str.extract(r'(?P<Origin>\\w+)[-](?P<Destination>\\w+)')\n",
    "    elif x=='S':\n",
    "        a=dataframe[\"ScheduledRoute\"].str.extract(r'(?P<Origin>\\w+)[-](?P<Destination>\\w+)')\n",
    "\n",
    "    origin = list(np.unique(a.Origin))\n",
    "    destination = list(np.unique(a.Destination))\n",
    "    df_or =pd.DataFrame(a['Origin'])\n",
    "    df_dest=pd.DataFrame(a['Destination'])\n",
    "    matched_o_list=[]\n",
    "    for i in origin:\n",
    "        if i in airports.index:\n",
    "            matched_o_list.append(i)\n",
    "    \n",
    "    ## List of Airports from our dataset that match airports from the Airports Library\n",
    "    matched_df = airports.loc[matched_o_list,:]  \n",
    "    \n",
    "    ## Missing latitude and Longitude from Airports Dataset\n",
    "    missing_lat={'SXF':52.3733,'SZY':53.4879 ,'LYS':45.7234,'RVN':40.1492,'IEV':50.4120 , 'BEG':44.8196 , 'KEF':63.9815 , 'MPL':43.5796,'LGG':50.6412 ,'LIN':45.4533,'NRK':58.5834,'GVA':46.2370, 'SPU':43.5367 , 'LLA':33.9416 ,'PRN':42.5746 , 'CDG':49.0081 , 'SPC':28.6259 }\n",
    "    missing_long={'SXF':13.5064,'SZY':20.9465,'LYS':5.0888,'RVN':44.3989 ,'IEV':30.4433 , 'BEG':20.2901 , 'KEF':22.6282 , 'MPL':3.9652,'LGG':5.4479 ,'LIN':9.2763 ,'NRK': 16.2339,'GVA':6.1091, 'SPU':16.2990 , 'LLA':118.4085 ,'PRN':21.0295 , 'CDG':2.5509 , 'SPC':17.7551 }  \n",
    "\n",
    "    ## Splitting lattitude and longitude from our matched dataframe and transforming to dictionary to then Map to The Origin and Dest\n",
    "    lat=matched_df['lat'].to_dict()\n",
    "    lon=matched_df['lon'].to_dict()\n",
    "    \n",
    "    ### Mapping Lattitude and Longitudes for Origin and Destination\n",
    "    df_or['lato']=df_or.Origin.map(lat)\n",
    "    df_or['lono']=df_or.Origin.map(lon)\n",
    "    df_dest['latd']=df_dest.Destination.map(lat)\n",
    "    df_dest['lond']=df_dest.Destination.map(lon)\n",
    "    \n",
    "    \n",
    "    ### Mapping Missing values for Lattitude and Longitude\n",
    "    df_or['lato']=df_or['Origin'].map(missing_lat).fillna(df_or['lato'])\n",
    "    df_or['lono']=df_or['Origin'].map(missing_long).fillna(df_or['lono'])\n",
    "    df_dest['latd']=df_dest['Destination'].map(missing_lat).fillna(df_dest['latd'])\n",
    "    df_dest['lond']=df_dest['Destination'].map(missing_long).fillna(df_dest['lond'])\n",
    "    \n",
    "    ## For loop that appends computed value of distance between origin airport and destination airport \n",
    "    route_dist=[]\n",
    "    for i in range(0,df_dest.shape[0]):\n",
    "        p1 = (round(df_or.lono[i],4),round(df_or.lato[i],4))\n",
    "        p2 = (round(df_dest.lond[i],4),round(df_dest.latd[i],4))\n",
    "        route_dist.append(gcc.distance_between_points(p1, p2, unit='kilometers', haversine=True))\n",
    "        \n",
    "    ## Return Actual Route Distance(A) or Scheduled Route Distance(S) based on need of the user\n",
    "    if x=='A':\n",
    "        dataframe['ActualRoute_dist']=pd.Series(route_dist)\n",
    "        return dataframe['ActualRoute_dist'];\n",
    "    \n",
    "    if x=='S':\n",
    "        dataframe['ScheduledRoute_dist']=pd.Series(route_dist)\n",
    "        return dataframe['ScheduledRoute_dist'];\n",
    "    \n",
    "## Computing Distances for Scheduled and Actual Distances\n",
    "data_train_ext['ScheduledRoute_dist']=route_dist(data_train_ext, x='S')\n",
    "data_train_ext['ActualRoute_dist']=route_dist(data_train_ext, x='A')\n",
    "data_test['ScheduledRoute_dist']=route_dist(data_test, x='S')"
   ]
  },
  {
   "cell_type": "markdown",
   "id": "6749ad37",
   "metadata": {},
   "source": [
    "## Payload Outlier handling "
   ]
  },
  {
   "cell_type": "markdown",
   "id": "092b67dd",
   "metadata": {},
   "source": [
    "#### Not included in Final Model"
   ]
  },
  {
   "cell_type": "code",
   "execution_count": 94,
   "id": "a4265a70",
   "metadata": {},
   "outputs": [],
   "source": [
    "## Max Payload: in kg accoring to each aircraft specification\n",
    "MAX_payload_max =20882 \n",
    "NG_payload_max = 20540\n",
    "Airbus_payload_max=16600\n",
    "\n",
    "## If we find a payload higher than the maximum payload based on each aircraft type\n",
    "## we replaced the value with the maximum payload.\n",
    "def Payload_outlier_transform(dataframe):\n",
    "    Payload_transform=[]\n",
    "    for i,j in zip(dataframe.AircraftTypeGroup, dataframe.TP):\n",
    "        ## Max\n",
    "        if i=='Max'and j<=MAX_payload_max:\n",
    "            Payload_transform.append(j)\n",
    "        elif i=='Max'and j>MAX_payload_max:\n",
    "            Payload_transform.append(MAX_payload_max)\n",
    "        ## NG\n",
    "        if i=='NG'and j<=NG_payload_max:\n",
    "            Payload_transform.append(j)\n",
    "        elif i=='NG'and j>NG_payload_max:\n",
    "            Payload_transform.append(NG_payload_max) \n",
    "        ## Airbus\n",
    "        if i=='Airbus'and j<=Airbus_payload_max:\n",
    "            Payload_transform.append(j)\n",
    "        elif i=='Airbus'and j>Airbus_payload_max:\n",
    "            Payload_transform.append(Airbus_payload_max) \n",
    "\n",
    "    ## Transforming our original variable Payload with the transformed payload values\n",
    "    dataframe['TP']=pd.Series(Payload_transform)\n",
    "    return dataframe;\n",
    "\n",
    "data_train_ext = Payload_outlier_transform(data_train_ext)\n",
    "data_test = Payload_outlier_transform(data_test)"
   ]
  },
  {
   "cell_type": "markdown",
   "id": "72e9a709",
   "metadata": {},
   "source": [
    "## Fuel Outlier handling "
   ]
  },
  {
   "cell_type": "markdown",
   "id": "a01a13e9",
   "metadata": {},
   "source": [
    "#### Not included in Final Model"
   ]
  },
  {
   "cell_type": "code",
   "execution_count": 95,
   "id": "e84c694e",
   "metadata": {},
   "outputs": [],
   "source": [
    "\n",
    "## Replacing outliers with the maximum fuel capacity of the aircraft\n",
    "def fuel_outlier_transform(dataframe):\n",
    "    MAX_fuel_max =82191-65952 \n",
    "    NG_fuel_max = 79000-61690\n",
    "    Airbus_fuel_max=78000-62500\n",
    "\n",
    "    Fuel_transform=[]\n",
    "    for i,j in zip(dataframe.AircraftTypeGroup, dataframe.Fuel):\n",
    "        ## Max\n",
    "        if i=='Max'and j<=MAX_fuel_max:\n",
    "            Fuel_transform.append(j)\n",
    "        elif i=='Max'and j>MAX_fuel_max:\n",
    "            Fuel_transform.append(MAX_fuel_max)\n",
    "        ## NG\n",
    "        if i=='NG'and j<=NG_fuel_max:\n",
    "            Fuel_transform.append(j)\n",
    "        elif i=='NG'and j>NG_fuel_max:\n",
    "            Fuel_transform.append(NG_fuel_max) \n",
    "        ## Airbus\n",
    "        if i=='Airbus'and j<=Airbus_fuel_max:\n",
    "            Fuel_transform.append(j)\n",
    "        elif i=='Airbus'and j>Airbus_fuel_max:\n",
    "            Fuel_transform.append(Airbus_fuel_max) \n",
    "\n",
    "\n",
    "    dataframe['Fuel'] =pd.Series(Fuel_transform)\n",
    "    dataframe.drop('Fuel_transform', axis=1, inplace=True)\n",
    "    return dataframe;\n",
    "\n"
   ]
  },
  {
   "cell_type": "markdown",
   "id": "5958d6a4",
   "metadata": {},
   "source": [
    "## Extraction of Time and Day "
   ]
  },
  {
   "cell_type": "code",
   "execution_count": 96,
   "id": "8240e8e3",
   "metadata": {},
   "outputs": [],
   "source": [
    "## Function to compute day shift based on hour range\n",
    "def time(dataframe):\n",
    "    \n",
    "    ## Transforming columns into datetime format\n",
    "    dataframe['DepartureScheduled'] = pd.to_datetime(dataframe['DepartureScheduled']) \n",
    "    dataframe['Departure_Time'] = [d.time() for d in dataframe['DepartureScheduled']]\n",
    "    dataframe['Departure_date'] = [d.date() for d in dataframe['DepartureScheduled']]\n",
    "    dataframe['DepartureScheduled'] = dataframe['DepartureScheduled'].astype('datetime64[ns]')\n",
    "    dataframe['Time_in_Hr']= dataframe.DepartureScheduled.dt.hour\n",
    "    \n",
    "    ## Extrcating month, day of week, year from departure scheduled\n",
    "    dataframe['month'] = pd.DatetimeIndex(dataframe['DepartureScheduled']).month\n",
    "    dataframe['dayofweek'] = pd.DatetimeIndex(dataframe['DepartureScheduled']).dayofweek\n",
    "    dataframe['year'] = pd.DatetimeIndex(dataframe['DepartureScheduled']).year\n",
    "    dataframe[\"dayofweek\"]=dataframe[\"dayofweek\"].astype(\"object\")\n",
    "    dataframe[\"month\"]=dataframe[\"month\"].astype(\"object\")\n",
    "    dataframe[\"year\"]=dataframe[\"year\"].astype(\"object\")\n",
    "\n",
    "    # function to calculate shifts based on hour range\n",
    "    def to_shift(hour):\n",
    "        if hour < 6 or hour >= 21:\n",
    "            return \"Night\"\n",
    "        elif hour >= 6 and hour < 9:\n",
    "            return \"Early Morning\"\n",
    "        elif hour >= 9 and hour < 12:\n",
    "            return \"Morning\"\n",
    "        elif hour >= 12 and hour < 15:\n",
    "            return \"Midday\"\n",
    "        elif hour >= 15 and hour < 18:\n",
    "            return \"Evening\"\n",
    "        elif hour >= 18 and hour < 21:\n",
    "            return \"Late Evening\"\n",
    "        \n",
    "    dataframe['shift'] = dataframe['Time_in_Hr'].apply(to_shift)\n",
    "    dataframe.drop(['Time_in_Hr'], axis=1, inplace=True)\n",
    "    return dataframe;\n",
    "\n",
    "data_train = time(data_train)"
   ]
  },
  {
   "cell_type": "code",
   "execution_count": null,
   "id": "cb98b1fe",
   "metadata": {},
   "outputs": [],
   "source": []
  },
  {
   "cell_type": "code",
   "execution_count": 97,
   "id": "b0b2c77a",
   "metadata": {},
   "outputs": [],
   "source": [
    "def drop_columns(dataframe):\n",
    "    dataframe.drop('Carrier',axis=1, inplace =True)\n",
    "    dataframe.drop('FlightID',axis=1, inplace =True)\n",
    "    dataframe.drop('DepartureScheduled',axis=1, inplace =True)\n",
    "    dataframe.drop('ArrivalScheduled',axis=1, inplace =True)\n",
    "    dataframe.drop('Departure_Time',axis=1, inplace =True)\n",
    "    dataframe.drop('FlightNumber',axis=1, inplace =True)\n",
    "    \n",
    "    return dataframe;\n",
    "\n",
    "data_train = drop_columns(data_train)"
   ]
  },
  {
   "cell_type": "code",
   "execution_count": 98,
   "id": "dc409f2a",
   "metadata": {},
   "outputs": [
    {
     "name": "stdout",
     "output_type": "stream",
     "text": [
      "<class 'pandas.core.frame.DataFrame'>\n",
      "RangeIndex: 765236 entries, 0 to 765235\n",
      "Data columns (total 18 columns):\n",
      " #   Column                Non-Null Count   Dtype   \n",
      "---  ------                --------------   -----   \n",
      " 0   AircraftRegistration  765236 non-null  category\n",
      " 1   AircraftCapacity      765236 non-null  float64 \n",
      " 2   AircraftTypeGroup     765236 non-null  category\n",
      " 3   ServiceDescription    765236 non-null  category\n",
      " 4   AOCDescription        765236 non-null  category\n",
      " 5   ScheduledRoute        765236 non-null  category\n",
      " 6   BlockTimeScheduled    765236 non-null  float64 \n",
      " 7   Adults                765236 non-null  float64 \n",
      " 8   Children              765236 non-null  float64 \n",
      " 9   Freight               765236 non-null  float64 \n",
      " 10  Infants               765236 non-null  float64 \n",
      " 11  Bags                  765236 non-null  float64 \n",
      " 12  TeledyneRampWeight    765236 non-null  float64 \n",
      " 13  Departure_date        765236 non-null  object  \n",
      " 14  month                 765236 non-null  object  \n",
      " 15  dayofweek             765236 non-null  object  \n",
      " 16  year                  765236 non-null  object  \n",
      " 17  shift                 765236 non-null  object  \n",
      "dtypes: category(5), float64(8), object(5)\n",
      "memory usage: 81.2+ MB\n"
     ]
    }
   ],
   "source": [
    "data_train.info()"
   ]
  },
  {
   "cell_type": "markdown",
   "id": "dd80905c",
   "metadata": {},
   "source": [
    "## Target Variable TeledyneRampWeight Outlier Handling\n"
   ]
  },
  {
   "cell_type": "code",
   "execution_count": null,
   "id": "f7f85fa7",
   "metadata": {},
   "outputs": [],
   "source": [
    "\n",
    "mean=np.mean(train.TeledyneRampWeight)\n",
    "sd = np.std(train.TeledyneRampWeight)\n",
    "min_outliers = train[train.TeledyneRampWeight<=mean-2*sd].index\n",
    "max_outliers = train[train.TeledyneRampWeight>=mean+2*sd].index\n",
    "\n",
    "\n",
    "train.drop(min_outliers, inplace=True)\n",
    "train.drop(max_outliers, inplace=True)\n"
   ]
  },
  {
   "cell_type": "markdown",
   "id": "d41e05a4",
   "metadata": {},
   "source": [
    "## Final Model"
   ]
  },
  {
   "cell_type": "code",
   "execution_count": 102,
   "id": "3e0c194f",
   "metadata": {},
   "outputs": [
    {
     "name": "stderr",
     "output_type": "stream",
     "text": [
      "C:\\Users\\uSUARIO\\anaconda3\\lib\\site-packages\\category_encoders\\target_encoder.py:92: FutureWarning:\n",
      "\n",
      "Default parameter min_samples_leaf will change in version 2.6.See https://github.com/scikit-learn-contrib/category_encoders/issues/327\n",
      "\n",
      "C:\\Users\\uSUARIO\\anaconda3\\lib\\site-packages\\category_encoders\\target_encoder.py:97: FutureWarning:\n",
      "\n",
      "Default parameter smoothing will change in version 2.6.See https://github.com/scikit-learn-contrib/category_encoders/issues/327\n",
      "\n"
     ]
    }
   ],
   "source": [
    "### columns for one hot encoding\n",
    "ohe_cats=['ServiceDescription','AircraftCapacity','AircraftTypeGroup','AOCDescription','dayofweek','year','shift']\n",
    "### columns for target encoding\n",
    "target_encoding_cats=['AircraftRegistration','ScheduledRoute','month']\n",
    "\n",
    "## test set declaration\n",
    "X_test = test\n",
    "\n",
    "## Create X, all columns except target\n",
    "X = train.drop('TeledyneRampWeight',axis=1)\n",
    "\n",
    "# Create y, only the target column\n",
    "y = train[\"TeledyneRampWeight\"]\n",
    "\n",
    "\n",
    "# this is defining the column transformers\n",
    "transformer = ColumnTransformer(transformers=[\n",
    "    ('TAR',TargetEncoder(),target_encoding_cats),\n",
    "    ('OHE',OneHotEncoder(sparse=False,drop='first'),ohe_cats)],\n",
    "     remainder='passthrough')\n",
    "\n",
    "# One again run this if testing needs to be done on training\n",
    "transformer.fit(X,y)\n",
    "X_train_transformed = transformer.transform(X)\n",
    "X_test_transformed = transformer.transform(X_test)\n",
    "\n",
    "\n",
    "\n",
    "## declaring xgb regressor after hyperparameter tuning                \n",
    "gbm = xgb.XGBRegressor(\n",
    "    base_score=0.2, \n",
    "    booster='gbtree', \n",
    "    callbacks=None,\n",
    "    colsample_bylevel=1, \n",
    "    colsample_bynode=1, \n",
    "    colsample_bytree=1,\n",
    "    early_stopping_rounds=None, \n",
    "    enable_categorical=False,\n",
    "    eval_metric=None, \n",
    "    gamma=0, \n",
    "    gpu_id=-1, \n",
    "    grow_policy='depthwise',\n",
    "    importance_type=None, \n",
    "    interaction_constraints='',\n",
    "    learning_rate=0.1, ## Default Value = 0.300000012\n",
    "    max_bin=256, \n",
    "    max_cat_to_onehot=4,\n",
    "    max_delta_step=0, \n",
    "    max_depth=9, \n",
    "    max_leaves=0, \n",
    "    min_child_weight=0.5,\n",
    "    monotone_constraints='()', \n",
    "    n_estimators=110, \n",
    "    n_jobs=0,\n",
    "    num_parallel_tree=1, \n",
    "    predictor='auto', \n",
    "    random_state=42, \n",
    "    reg_alpha=0,\n",
    "    reg_lambda=1\n",
    ")\n",
    "\n",
    "gbm.fit(X_train_transformed,y)\n",
    "\n",
    "## XGBoost predictions: TeledyneRampWeight\n",
    "test['TeledyneRampWeight'] = gbm.predict(X_test_transformed)\n",
    "'''\n",
    "## Exporting predictions into a csv file\n",
    "model_1_pred= test['TeledyneRampWeight']\n",
    "test_id=pd.Series(data_test.FlightID)\n",
    "result = pd.DataFrame({'FlightID':test_id, 'TeledyneRampWeight':model_1_pred})\n",
    "result.set_index('FlightID', inplace = True)\n",
    "result.to_csv('predictions_xgb_final_datathon.csv')#,sep=',', float_format='%.0f')\n",
    "'''"
   ]
  },
  {
   "cell_type": "markdown",
   "id": "5e85cba5",
   "metadata": {},
   "source": [
    "## Corrector Model, to predict the errors of our XgBoost Model & Final Submission"
   ]
  },
  {
   "cell_type": "code",
   "execution_count": null,
   "id": "3de651e7",
   "metadata": {},
   "outputs": [],
   "source": [
    "train['train_pred']= gbm.predict(X_train_transformed)\n",
    "\n",
    "train['xgb_error']=train['TeledyneRampWeight']-train['train_pred']\n",
    "from sklearn.linear_model import LinearRegression # class\n",
    "from sklearn.preprocessing import StandardScaler\n",
    "\n",
    "scaler = StandardScaler()\n",
    "time_route_vars = ['dayofweek','month', 'shift','ScheduledRoute']\n",
    "linear = LinearRegression() # creation of instance of that class\n",
    "\n",
    "#to_scale=['Burnoff']\n",
    "ohe_cats=['dayofweek','month','shift']\n",
    "target_encoding_cats=['ScheduledRoute']\n",
    "\n",
    "### Defining sets\n",
    "\n",
    "X = train.loc[:,time_route_vars]\n",
    "y = train['xgb_error']\n",
    "\n",
    "X_test = test.loc[:,time_route_vars]\n",
    "# this is defining the column transformers\n",
    "transformer = ColumnTransformer(transformers=[\n",
    "         ('OHE',OneHotEncoder(sparse=False,drop='first'),ohe_cats),#('scaler',StandardScaler(),to_scale),\n",
    "          ('TAR',TargetEncoder(),target_encoding_cats)],remainder='passthrough')\n",
    "\n",
    "# One again run this if testing needs to be done on training\n",
    "transformer.fit(X,y)\n",
    "X_train_transformed = transformer.transform(X)\n",
    "X_test_transformed = transformer.transform(X_test)\n",
    "\n",
    "corrector_model = linear.fit(X_train_transformed,y)\n",
    "test['xgb_error'] = linear.predict(X_test_transformed)\n",
    "\n",
    "model_1_pred= test['TeledyneRampWeight']+test['xgb_error']\n",
    "test_id=pd.Series(data_test.FlightID)\n",
    "result = pd.DataFrame({'FlightID':test_id, 'TeledyneRampWeight':model_1_pred})\n",
    "result.set_index('FlightID', inplace = True)\n",
    "result.to_csv('predictions_xgb_final_datathon.csv')#,sep=',', float_format='%.0f')"
   ]
  }
 ],
 "metadata": {
  "kernelspec": {
   "display_name": "Python 3 (ipykernel)",
   "language": "python",
   "name": "python3"
  },
  "language_info": {
   "codemirror_mode": {
    "name": "ipython",
    "version": 3
   },
   "file_extension": ".py",
   "mimetype": "text/x-python",
   "name": "python",
   "nbconvert_exporter": "python",
   "pygments_lexer": "ipython3",
   "version": "3.9.7"
  }
 },
 "nbformat": 4,
 "nbformat_minor": 5
}
